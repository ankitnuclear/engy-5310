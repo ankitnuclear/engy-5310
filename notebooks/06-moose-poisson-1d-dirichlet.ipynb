{
 "cells": [
  {
   "cell_type": "markdown",
   "metadata": {},
   "source": [
    "ChEn-5310: Computational Continuum Transport Phenomena Fall 2021 UMass Lowell; Prof. V. F. de Almeida **07Dec21**\n",
    "\n",
    "# 06. Poisson 1D with Dirichlet Boundary Conditions\n",
    "$  \n",
    "  \\newcommand{\\Amtrx}{\\boldsymbol{\\mathsf{A}}}\n",
    "  \\newcommand{\\Bmtrx}{\\boldsymbol{\\mathsf{B}}}\n",
    "  \\newcommand{\\Mmtrx}{\\boldsymbol{\\mathsf{M}}}\n",
    "  \\newcommand{\\Imtrx}{\\boldsymbol{\\mathsf{I}}}\n",
    "  \\newcommand{\\Pmtrx}{\\boldsymbol{\\mathsf{P}}}\n",
    "  \\newcommand{\\Lmtrx}{\\boldsymbol{\\mathsf{L}}}\n",
    "  \\newcommand{\\Umtrx}{\\boldsymbol{\\mathsf{U}}}\n",
    "  \\newcommand{\\Smtrx}{\\boldsymbol{\\mathsf{S}}}\n",
    "  \\newcommand{\\xvec}{\\boldsymbol{\\mathsf{x}}}\n",
    "  \\newcommand{\\avec}{\\boldsymbol{\\mathsf{a}}}\n",
    "  \\newcommand{\\bvec}{\\boldsymbol{\\mathsf{b}}}\n",
    "  \\newcommand{\\cvec}{\\boldsymbol{\\mathsf{c}}}\n",
    "  \\newcommand{\\rvec}{\\boldsymbol{\\mathsf{r}}}\n",
    "  \\newcommand{\\fvec}{\\boldsymbol{\\mathsf{f}}}\n",
    "  \\newcommand{\\mvec}{\\boldsymbol{\\mathsf{m}}}\n",
    "  \\newcommand{\\gvec}{\\boldsymbol{\\mathsf{g}}}\n",
    "  \\newcommand{\\zerovec}{\\boldsymbol{\\mathsf{0}}}\n",
    "  \\newcommand{\\norm}[1]{\\bigl\\lVert{#1}\\bigr\\rVert}\n",
    "  \\newcommand{\\transpose}[1]{{#1}^\\top}\n",
    "  \\DeclareMathOperator{\\rank}{rank}\n",
    "  \\newcommand{\\Reals}{\\mathbb{R}}\n",
    "  \\newcommand{\\thetavec}{\\boldsymbol{\\theta}}\n",
    "$"
   ]
  },
  {
   "cell_type": "markdown",
   "metadata": {},
   "source": [
    "---\n",
    "\n",
    "## Table of Contents<a id=\"toc\"></a>\n",
    "* [Objectives](#obj)\n",
    "1. [Plotting Functions](#plotting)\n",
    "<br><br>\n",
    "1. [Problem Statement](#problem)\n",
    " + [Strong Form](#dbcstrong)\n",
    " + [Variational Form](#dbcweak)\n",
    " + [Poisson-Dirichlet Energy](#energy)\n",
    "<br><br>\n",
    "1. [Problem Solution](#solution)\n",
    " + [MOOSE Application Development](#dbcapp)\n",
    " + [Code a Diffusion Term Kernel](#dbcdiff)\n",
    " + [Code a Source Term Kernel](#dbcsource)\n",
    " + [Compile and Link Application](#compile1)\n",
    " + [Input File](#dbcinput)\n",
    " + [Run Application](#dbcrun)\n",
    "<br><br>   \n",
    "1. [Linear Lagrange FEM Results](#dbclinearfemresults)\n",
    " + [Compute Error](#linearerror)\n",
    "<br><br>    \n",
    "1. [Quadratic Lagrange FEM Results](#dbcquadfemresults)\n",
    " + [Compute Error](#quaderror)\n",
    "<br><br>    \n",
    "1. [Diffusion Flux Postprocessing](#diffusionfluxpostpro)\n",
    " + [Auxiliary Variable](#auxvar)\n",
    " + [Use MOOSE Diffusion Flux Auxiliary Kernel](#auxdiffflux)\n",
    "    - [Compute Error](#difffluxerror1)\n",
    " + [Code a Diffusion Flux Auxiliary Kernel](#auxdiffflux2)\n",
    " + [Compile and Link Application](#compile2)\n",
    "    - [Compute Error](#difffluxerror2)\n",
    "<br><br>   \n",
    "1. [Energy Postprocessing](#energypostpro)\n",
    " + [Code the Energy Postprocessor](#postpro)\n",
    " + [Compile and Link Application](#compilelink2)\n",
    " + [Input File](#energyinput)\n",
    " + [Run Application](#runenergy)\n",
    " + [Energy Results](#energyresults)\n",
    "    - [Compute Error](#energyerror)\n",
    "<br><br>   \n",
    "1. [Application Tree](#tree)\n",
    "---"
   ]
  },
  {
   "cell_type": "markdown",
   "metadata": {},
   "source": [
    "## [Objectives](#toc)<a id=\"obj\"></a>\n",
    "\n",
    " + Begin using [`MOOSE`](https://mooseframework.inl.gov) to practice solving ODE's. Therefore access to a working [`MOOSE`](https://mooseframework.inl.gov) installation is necessary. Additional local information on installation for your computer setting can be found [here](https://github.com/UML-Linux-Club/moose-info).\n",
    " + Introduce the Galerkin variational (weak) form of the Poisson 1D problem below ([OneNote notes here](https://studentuml-my.sharepoint.com/:o:/g/personal/valmor_dealmeida_uml_edu/Eib-vZHIpRlPlOMtz0Gf_asBegEFKsl9dOK4nHyDbgSeUA?e=sLu1td)).\n",
    " + Introduce the use of the boundary condition known as Dirichlet boundary condition.\n",
    " + Use second order accurate finite element Lagrange basis functions to solve the problem numerically.\n",
    " + <span style=\"color:red\">Some initial code is provided in the course repository but no full source code is given out. A significant effort in programing is often necessary to learn the subject well. However the material in this course is helpful with this task. Hands-on work during lectures will try to fill in existing gap. The steps in this notebook are necessary for a basic understanding of the subject.</span> \n",
    " + You are supposed to consult the [`MOOSE source documentation`](https://mooseframework.inl.gov/source/index.html) to fill in gaps in reproducing the steps below.</span>"
   ]
  },
  {
   "cell_type": "markdown",
   "metadata": {},
   "source": [
    "## [Plotting Functions](#toc)<a id=\"plotting\"></a>\n",
    "\n",
    "This is an auxiliary section for holding plotting functions used later."
   ]
  },
  {
   "cell_type": "code",
   "execution_count": 1,
   "metadata": {
    "ExecuteTime": {
     "end_time": "2021-12-11T06:39:11.092422Z",
     "start_time": "2021-12-11T06:39:11.085967Z"
    },
    "code_folding": [
     2
    ]
   },
   "outputs": [],
   "source": [
    "'''Plot function for FEM Solution'''\n",
    "\n",
    "def plot_solution(df, \n",
    "                  title='No Title', \n",
    "                  basis_functions_type='No basis functions type',\n",
    "                  flux_basis_functions_type='No basis functions type'):\n",
    "    \n",
    "    import matplotlib.pyplot as plt\n",
    "    #%matplotlib inline\n",
    "    plt.style.use('dark_background')\n",
    "\n",
    "    (fig, ax1) = plt.subplots(1, figsize=(14, 5))\n",
    "\n",
    "    ax1.plot(df['x'], df['u'],'r*-',label=basis_functions_type)\n",
    "\n",
    "    ax1.set_xlabel(r'$x$ [cm]', fontsize=18)\n",
    "    ax1.set_ylabel(r'$u_h(x)$ [g/cc]', fontsize=18, color='red')\n",
    "    ax1.tick_params(axis='y', labelcolor='red', labelsize=14)\n",
    "    ax1.tick_params(axis='x', labelsize=14)\n",
    "    ax1.legend(loc='center left', fontsize=12)\n",
    "    #ax1.set_ylim(0,1)\n",
    "    ax1.grid(True)\n",
    "\n",
    "    if 'diffFluxU_x' in df.columns:\n",
    "        # create a twin x axis to be shared\n",
    "        ax2 = ax1.twinx()\n",
    "\n",
    "        ax2.plot(df['x'], df['diffFluxU_x'],'*-', color='yellow', label=flux_basis_functions_type)\n",
    "\n",
    "        ax2.set_ylabel(r\"$q_h(x)$ [g/cm$^2$-s]\", fontsize=16, color='yellow')\n",
    "        ax2.tick_params(axis='y', labelcolor='yellow', labelsize=14)\n",
    "        ax2.legend(loc='center right', fontsize=12)\n",
    "        #ax2.set_ylim(0,2)\n",
    "        #ax2.grid(True)\n",
    "\n",
    "    plt.title(title, fontsize=20)\n",
    "    fig.tight_layout()  # otherwise the right y-label is slightly clipped\n",
    "    plt.show()\n",
    "    print('')"
   ]
  },
  {
   "cell_type": "code",
   "execution_count": 2,
   "metadata": {
    "ExecuteTime": {
     "end_time": "2021-12-11T06:39:11.438286Z",
     "start_time": "2021-12-11T06:39:11.431881Z"
    },
    "code_folding": [
     2
    ]
   },
   "outputs": [],
   "source": [
    "'''Plot Function for Error Compared to Exact Dimensionless Solution'''\n",
    "\n",
    "def plot_solution_error(df, title='Dimensionless FEM Solution and Error', fem_type='No FEM type'):\n",
    "    \n",
    "    from engy_5310.moose_toolkit import engy5310_p1_exact_solution\n",
    "\n",
    "    import matplotlib.pyplot as plt\n",
    "    #%matplotlib inline\n",
    "    plt.style.use('dark_background')\n",
    "    \n",
    "    (u_hat, _, _) = engy5310_p1_exact_solution(x_a, x_b, u_a, u_b, diff_coeff, source_s)\n",
    "\n",
    "    L = df['x'].max() - df['x'].min()\n",
    "    x_mean = (df['x'].max() + df['x'].min())/2.0\n",
    "    x_hat = (df['x'] - x_mean)/L\n",
    "    a_hat = u_a/source_s*diff_coeff/L**2\n",
    "    b_hat = u_b/source_s*diff_coeff/L**2\n",
    "\n",
    "    uh_hat = df['u']/source_s*diff_coeff/L**2\n",
    "\n",
    "    plt.figure(1, figsize=(14, 5))\n",
    "    \n",
    "    plt.plot(x_hat, uh_hat,'r-*',label=fem_type)\n",
    "    \n",
    "    plt.plot(x_hat, u_hat(x_hat, a_hat, b_hat), 'x', color='yellow', label='Exact Solution')\n",
    "\n",
    "    plt.plot(x_hat, uh_hat-u_hat(x_hat, a_hat, b_hat), 'x', color='magenta', label=r'$\\hat{u}_h-\\hat{u}$')\n",
    "    \n",
    "    plt.title(label=title, fontsize=20)\n",
    "    plt.ylabel(r'$\\hat{u}_h, \\hat{u}$', fontsize=18)\n",
    "    plt.xlabel(r'$\\hat{x}$', fontsize=18)\n",
    "    plt.xticks(fontsize=16)\n",
    "    plt.yticks(fontsize=16)\n",
    "    plt.legend(loc='best',fontsize=12)\n",
    "    plt.grid(True)\n",
    "    plt.show()"
   ]
  },
  {
   "cell_type": "code",
   "execution_count": 3,
   "metadata": {
    "ExecuteTime": {
     "end_time": "2021-12-11T06:39:11.688618Z",
     "start_time": "2021-12-11T06:39:11.682514Z"
    },
    "code_folding": [
     2
    ]
   },
   "outputs": [],
   "source": [
    "'''Plot Function for Error Compared to Exact Dimensionless Solution'''\n",
    "\n",
    "def plot_flux_error(df, fem_type='No FEM type'):\n",
    "    \n",
    "    from engy_5310.moose_toolkit import engy5310_p1_exact_solution\n",
    "        \n",
    "    import matplotlib.pyplot as plt\n",
    "    #%matplotlib inline\n",
    "    plt.style.use('dark_background')\n",
    "    \n",
    "    (_, flux_hat, _) = engy5310_p1_exact_solution(x_a, x_b, u_a, u_b, diff_coeff, source_s)\n",
    "\n",
    "    L = df['x'].max() - df['x'].min()\n",
    "    x_mean = (df['x'].max() + df['x'].min())/2.0\n",
    "    x_hat = (df['x'] - x_mean)/L\n",
    "    \n",
    "    a_hat = u_a/source_s*diff_coeff/L**2\n",
    "    b_hat = u_b/source_s*diff_coeff/L**2\n",
    "\n",
    "    flux_h_hat = df['diffFluxU_x']/source_s/L\n",
    "\n",
    "    plt.figure(1, figsize=(14, 5))\n",
    "    \n",
    "    plt.plot(x_hat, flux_h_hat, 'r-*', label=fem_type)\n",
    "    \n",
    "    plt.plot(x_hat, flux_hat(x_hat, a_hat, b_hat), 'x', color='yellow', label='Exact Solution')\n",
    "\n",
    "    plt.plot(x_hat, flux_h_hat-flux_hat(x_hat, a_hat, b_hat),'x',color='magenta',label=r'$\\hat{q}_h-\\hat{q}$')\n",
    "    \n",
    "    plt.title('Dimensionless FEM Solution and Error', fontsize=20)\n",
    "    plt.ylabel(r'$\\hat{q}_h, \\hat{q}$', fontsize=18)\n",
    "    plt.xlabel(r'$\\hat{x}$', fontsize=18)\n",
    "    plt.xticks(fontsize=16)\n",
    "    plt.yticks(fontsize=16)\n",
    "    plt.legend(loc='best',fontsize=12)\n",
    "    plt.grid(True)\n",
    "    plt.show()"
   ]
  },
  {
   "cell_type": "markdown",
   "metadata": {},
   "source": [
    "## [Problem Statement](#toc)<a id=\"problem\"></a>\n",
    "\n",
    "The following sections describe what is referred in the literature as the one-dimensional Poisson problem with Dirichlet boundary conditions."
   ]
  },
  {
   "cell_type": "markdown",
   "metadata": {},
   "source": [
    "### [Strong Form of Problem Statement](#toc)<a id=\"dbcstrong\"></a>\n",
    "\n",
    "Solve the Poisson model problem. Find $u:[a,b]\\subset\\Reals\\rightarrow\\Reals$ for $D > 0$ such that:\n",
    "\n",
    "\\begin{align*}\n",
    " -\\bigl(-D\\, u'\\bigr)'(x) + S &= 0 \\quad\\quad \\forall \\quad\\quad x\\in\\quad\\quad ]a,b[, \\\\\n",
    " u(a) &= A, \\\\\n",
    " u(b) &= B.\n",
    "\\end{align*}\n",
    "   \n",
    "This problem has an analytical solution and you should obtain it for the constants: diffusion coefficient, $D$, source, $S$, entry concentration, $A$, and exit concentration $B$. The *diffusion flux* associated to the quantity $u$, is denoted $q := -D\\,u'$, and it is often of interest as a derived quantity.\n",
    "\n",
    "The values of the dependent variable are given on the two end points of the domain. This is called *essential* boundary conditions or  *Dirichlet boundary conditions*."
   ]
  },
  {
   "cell_type": "markdown",
   "metadata": {},
   "source": [
    "### [Variational Form of Problem Statement](#toc)<a id=\"dbcweak\"></a>\n",
    "\n",
    "The Galerkin variational formulation is as follows. Find $u \\in H^1\\!\\bigl([a,b]\\bigr)$ so that \n",
    "\n",
    "\\begin{align*}\n",
    " \\int\\limits_a^b -D\\, u'(x)\\,v'(x)\\,dx + \\int\\limits_a^b S\\,v(x)\\,dx &= 0 \\quad\\quad \\forall \\quad\\quad v \\in H^1_0\\!\\bigl([a,b]\\bigr), \n",
    "\\end{align*}\n",
    "\n",
    "where $H^1\\!\\bigl([a,b]\\bigr) := \\bigl\\{ u:[a,b]\\subset\\Reals\\rightarrow \\Reals \\mid \\int_a^b u'^2\\,dx < \\infty \\bigr\\}$ and \n",
    "$H^1_0\\!\\bigl([a,b]\\bigr) := \\bigl\\{ v \\mid v \\in H^1(a,b), v(a) = 0, v(b) =0 \\bigr\\}$. Both function sets as just defined are Hilbert spaces. The function $v$ is called a test function. Because $v$ and $u$ are sought in very similar sets of functions, this variational form is called Galerkin's variational form.\n",
    "\n",
    "The two integrals in the variational formulation are the key terms to be computed. Since the MOOSE framework performs the integration, and provides the implementation of the test function, we need to provide the integrand of the integrals, that is, the kernels. Therefore the kernels needed are:\n",
    "\n",
    " 1. $-D\\, u'(x)\\,v'(x)$ ,\n",
    " 1. $S\\,v(x)$.\n",
    " \n",
    "The kernels are to be evaluated at quadrature points provided by the MOOSE framework."
   ]
  },
  {
   "cell_type": "markdown",
   "metadata": {},
   "source": [
    "### [Poisson-Dirichlet Energy](#toc)<a id=\"energy\"></a>\n",
    "\n",
    "It is of theoretical and practical importance to compute the associated energy that the variational form minimizes, that is the **Poisson-Dirichlet total energy**:\n",
    "\n",
    "\\begin{align*}\n",
    " \\Phi[u] := \\int\\limits_a^b \\,\\frac{1}{2}\\bigl(q(x)\\bigr)^2 - D\\,S\\,u(x) \\,dx.\n",
    "\\end{align*}\n",
    "\n",
    "Since this is done after the solution is computed, it is characterized as a *postprocessing* operation. In `MOOSE` this is implemented in a *Postprocessors* class. First however, any derived quantity used in the integrand needs to be passed to the preprocessor for integration. Here we need to compute the local *flux*, $q$. In `MOOSE` this is done by creating an *auxiliary* variable and a corresponding *auxiliary kernel*. Therefore there are two additional components to [setup](#energypostpro):\n",
    "\n",
    "1. Create the auxiliary variable $q=-D\\,u'$,\n",
    "1. Create the posprocessor for computing $\\Phi$."
   ]
  },
  {
   "cell_type": "markdown",
   "metadata": {},
   "source": [
    "## [Problem Solution](#toc)<a id=\"solution\"></a>\n",
    "\n",
    "We need to create a MOOSE *application* with two MOOSE *kernels* and an *input* file. The ODE problem has a diffusion and a source term. Therefore a good way to proceed is to have **two MOOSE kernels** coded in C++ programming language. In the input file we will tell `MOOSE` to **add** the contribution of these kernels by simply listing them in a *[Kernels] block* in the input file (see below)."
   ]
  },
  {
   "cell_type": "markdown",
   "metadata": {},
   "source": [
    "### [MOOSE Application Development](#toc)<a id=\"dbcapp\"></a>\n",
    "\n",
    "1. Make sure `MOOSE` has been installed and there was *no major failed* tests. The instructions below assume you will keep your project at the same level of the `~/<to_moose_directory>/moose` directory in your file system.\n",
    "1. `cd ~/<to_moose_directory>/moose`\n",
    "1. `cd ..`\n",
    "1. `./moose/scripts/stork.sh Engy5310P1`\n",
    "1. Disregard the `github` setup\n",
    "1. `cd engy5310p1`\n",
    "1. `make`\n",
    "1. `./run_tests`\n",
    "1. `cp test/tests/kernels/simple_diffusion/simple_diffusion.i input.hit`\n",
    "1. Cleanup: `rm -rf test/, unit/, doc/, scripts/`\n",
    "1. Re-run: `./run_tests`\n",
    "1. Edit `src/main.C`\n",
    " - Replace `Engy5310P1TestApp` with `Engy5310P1App`\n",
    "1. `make clean`\n",
    "1. `make`\n",
    "1. If all went successful then there is an executable file created named `engy5310p1-opt`.\n",
    "1. This executable should be run on the command line by issuing the `bash` command:\n",
    " + `./engy5310p1-opt -i input.hit`\n",
    "1. Use [`VisIt`](https://wci.llnl.gov/simulation/computer-codes/visit) or `Paraview` to visualize `test_out.e`"
   ]
  },
  {
   "cell_type": "markdown",
   "metadata": {},
   "source": [
    "### [Code a Diffusion Term Kernel](#toc)<a id=\"dbcdiff\"></a>\n",
    "\n",
    "1. Starting from the project home directory.\n",
    "1. `cd include`\n",
    "1. `mkdir kernels`\n",
    "1. `cd kernels`\n",
    "1. Create a `DiffusionTerm.h` class interface as folows:\n",
    " + Use the `EquationTerm.h` [course template](https://github.com/dpploy/engy-5310/blob/main/moose-app-templates/EquationTerm.h), either copy from the previous link and paste into a text editor or do as follows:\n",
    " + `cp *path-to*/moose-app-templates/EquationTerm.h .`\n",
    " + `mv EquationTerm.h DiffusionTerm.h`\n",
    " + Edit the file `DiffusionTerm.h` with a text editor by replacing all instances of `EquationTerm` with `DiffusionTerm`.\n",
    " + You will need to declare a member variable named `_diffCoeff` as `Real` data type. For example:\n",
    "   ```c++\n",
    "   /// The variable that holds the value for the diffusion coefficient\n",
    "   const Real _diffCoeff;\n",
    "   ```\n",
    "<br>\n",
    "\n",
    "1. `cd ../..`\n",
    "1. `cd src`\n",
    "1. `mkdir kernels`\n",
    "1. `cd kernels`\n",
    "1. Create a `DiffusionTerm.C` class implementation as follows:\n",
    " + Use the `EquationTerm.C` [course template](https://github.com/dpploy/engy-5310/blob/main/moose-app-templates/EquationTerm.C), either copy from the previous link and paste into a text editor or do as follows:\n",
    " + `cp *path-to*/moose-app-templates/EquationTerm.C .`\n",
    " + `mv EquationTerm.C DiffusionTerm.C`\n",
    " + Edit the file `DiffusionTerm.C` with a text editor by replacing all instances of `EquationTerm` with `DiffusionTerm`.\n",
    " + You will need to program the *residual* and *Jacobian* methods. <span style=\"color:red\">This portion of the implementation is covered in class.</span>\n",
    " + For the residual, a return value such as this is needed:\n",
    "  ```c++\n",
    "  Real\n",
    "  DiffusionTerm::computeQpResidual()\n",
    "  {\n",
    "   return - _diffCoeff * _grad_u[_qp] * _grad_test[_i][_qp];\n",
    "  }\n",
    "  ```\n",
    " + For the Jacobian, a return value such as this is needed:\n",
    "  ```c++\n",
    "  Real\n",
    "  DiffusionTerm::computeQpJacobian()\n",
    "  {\n",
    "   return - _diffCoeff * _grad_phi[_j][_qp] * _grad_test[_i][_qp];\n",
    "  }\n",
    "  ```"
   ]
  },
  {
   "cell_type": "markdown",
   "metadata": {},
   "source": [
    "### [Code a Source Term Kernel](#toc)<a id=\"dbcsource\"></a>\n",
    "\n",
    "1. Starting from the project home directory.\n",
    "1. `cd include`\n",
    "1. `mkdir kernels`\n",
    "1. Create a `SourceTerm.h` class interface following similar steps as done for the `DiffusionTerm.h` interface.\n",
    " + Use the `EquationTerm.h` course template.\n",
    " + You will need to declare a member variable named `_sourceS` as `Real` data type. For example:\n",
    "   ```c++\n",
    "   /// The variable which holds the value for the source\n",
    "   const Real _sourceS;\n",
    "   ```\n",
    "1. Create a `SourceTerm.C` class implementation likewise.\n",
    " + Use the `EquationTerm.C` course template.\n",
    " + You will need to program the *residual* and *Jacobian* methods. <span style=\"color:red\">This portion of the implementation is covered in class.</span>\n",
    " \n",
    " + For the residual, a return value such as this is needed:\n",
    "  ```c++\n",
    "  Real\n",
    "  SourceTerm::computeQpResidual()\n",
    "  {\n",
    "   return _sourceS * _test[_i][_qp];\n",
    "  }\n",
    "  ```\n",
    " + For the Jacobian, a return value such as this is needed:\n",
    " ```c++\n",
    " Real\n",
    " SourceTerm::computeQpJacobian()\n",
    " {\n",
    "  return 0.0;\n",
    " }\n",
    " ```\n"
   ]
  },
  {
   "cell_type": "markdown",
   "metadata": {},
   "source": [
    "### [Compile and Link Application](#toc)<a id=\"compile1\"></a>\n",
    "\n",
    "1. Make sure you are in the problem project:\n",
    " +  `cd ../..`\n",
    " + `pwd`\n",
    "1. You should see: `~/<to_project>/engy5310p1`\n",
    "1. Compile and link the application\n",
    " + `make`\n",
    "1. If all is sucessfull you should see among other things in the screen output:\n",
    " + Linking Library `.../engy5310p1/lib/libengy5310p1-opt.la...`\n",
    " + Linking Executable `.../engy5310p1/engy5310p1-opt...`"
   ]
  },
  {
   "cell_type": "markdown",
   "metadata": {},
   "source": [
    "### [Input File](#toc)<a id=\"dbcinput\"></a>\n",
    "\n",
    "Any line in the \"blocked `MOOSE` input format information below\" without a comment (any text to the righ of *#*) refers to a `MOOSE` framework parameter. Consult the documentation for further info on these parameters. All user-app parameters for this problem are described with comments below. Use the content below to create an `input.hit` input file. That is, using a text editor copy and paste the content below into a new file and save it as a `text` file format with name `input.hit`.\n",
    "\n",
    "The *[VectorPosprocessors]* block in the `input.hit` file below, in conjuction with the *[Outputs]* block, instructs `MOOSE` to create simple plotting data in an output file for visualization of the solution.\n",
    "\n",
    "Some additional info on `MOOSE` **Hierarchical Input Text** (HIT) syntax can be found [here](https://mooseframework.inl.gov/application_usage/input_syntax.html).\n",
    "```\n",
    "[Mesh]\n",
    " [1d]                                # any lower case name; this is our 1D block\n",
    "  type = GeneratedMeshGenerator  \n",
    "  dim = 1 \n",
    "  xmin = 0 \n",
    "  xmax = 25\n",
    "  nx = 3 \n",
    " []\n",
    "[]\n",
    "\n",
    "[Variables]\n",
    " [u]                                 # our unknown variable to be related to below\n",
    "  order = first\n",
    "  family = lagrange\n",
    " []\n",
    "[]\n",
    "\n",
    "[Kernels]\n",
    " [diffusion-term]                    # our diffusion term kernel implemented in the app\n",
    "  type = DiffusionTerm               # our name for the diffusion kernel C++ class\n",
    "  variable = u                       # our unknown variable from the [Variables] block\n",
    "  diffCoeff = 1.00000e-01            # our defined diffusion coefficient C++ variable\n",
    " []\n",
    " [source-term]                       # our source term kernel implemented in the app\n",
    "  type = SourceTerm                  # our name for the source kernel C++ class\n",
    "  variable = u                       # our unknown variable from the [Variables] block\n",
    "  sourceS = 1.0000e-03               # our defined source constant C++ variable\n",
    " []\n",
    "[]\n",
    "\n",
    "[BCs]\n",
    " [entry]                             # our name for the left side of the boundary of the domain\n",
    "  type = DirichletBC\n",
    "  variable = u                       # our unknown variable from the [Variables] block\n",
    "  boundary = left\n",
    "  value = 3.00000e+00\n",
    " []\n",
    " [exit]                              # our name for the left side of the boundary of the domain\n",
    "  type = DirichletBC\n",
    "  variable = u                       # our unknown variable from the [Variables] block\n",
    "  boundary = right\n",
    "  value = 0.0\n",
    " []\n",
    "[]\n",
    "\n",
    "[Executioner]\n",
    " type = Steady\n",
    " solve_type = 'PJFNK'\n",
    " petsc_options_iname = '-pc_type -pc_hypre_type'\n",
    " petsc_options_value = 'hypre boomeramg'\n",
    "[]\n",
    "\n",
    "[VectorPostprocessors]\n",
    " [u]                                 # our unknown variable\n",
    "  type = LineValueSampler\n",
    "  execute_on = 'timestep_end final'\n",
    "  variable = 'u'                     # our unknown variable from the [Variables] block\n",
    "  start_point = '0 0 0'\n",
    "  end_point = '25 0 0'\n",
    "  num_points = 7\n",
    "  sort_by = id\n",
    " []\n",
    "[]\n",
    "\n",
    "[Outputs]\n",
    " [csv]                              # our choice for data output: tabular\n",
    "  type = CSV\n",
    "  file_base = 'output'\n",
    "  execute_on = 'final'\n",
    " []\n",
    "[]\n",
    "\n",
    "```\n",
    "Save the input file in the `.../engy5310p1/` directory."
   ]
  },
  {
   "cell_type": "markdown",
   "metadata": {},
   "source": [
    "<div class=\"alert alert-block alert-info\">\n",
    "The development so far will allow you to solve the Poisson 1D problem as stated without computing the total energy. You should run the application at this point for testing and experimenting with the parameters and your implementation.\n",
    "</div>"
   ]
  },
  {
   "cell_type": "markdown",
   "metadata": {},
   "source": [
    "### [Run Application](#toc)<a id=\"dbcrun\"></a>\n",
    "\n",
    "1. In the `engy5310p1/` directory run the application with the Linux shell command:\n",
    " + `./engy5310p1-opt -i input.hit`\n",
    "2. Compare your results with this notebook results below.\n",
    "3. Return here to follow instructions on how to implement the calculation of the total energy."
   ]
  },
  {
   "cell_type": "markdown",
   "metadata": {},
   "source": [
    "## [Linear Lagrange FEM](#toc)<a id=\"dbclinearfemresults\"></a>\n",
    "\n",
    "Solve problem with parameter values:\n",
    "\n",
    "> + a = 0 cm\n",
    "> + b = 25 cm\n",
    "> + A = 3 g/cc\n",
    "> + B = 0 g/cc\n",
    "> + D = 0.1 cm^2/s\n",
    "> + S = 1e-3 g/cc-s\n",
    "\n",
    "FEM parameters:\n",
    "\n",
    "> + Basis Functions: First Order Lagrangian\n",
    "> + num. of finite elements: 3"
   ]
  },
  {
   "cell_type": "code",
   "execution_count": 4,
   "metadata": {
    "ExecuteTime": {
     "end_time": "2021-12-11T06:40:19.606913Z",
     "start_time": "2021-12-11T06:40:19.604267Z"
    }
   },
   "outputs": [],
   "source": [
    "'''Domain'''\n",
    "\n",
    "x_a = 0\n",
    "x_b = 25\n",
    "\n",
    "x_length = x_b - x_a"
   ]
  },
  {
   "cell_type": "code",
   "execution_count": 5,
   "metadata": {
    "ExecuteTime": {
     "end_time": "2021-12-11T06:40:19.876239Z",
     "start_time": "2021-12-11T06:40:19.873642Z"
    }
   },
   "outputs": [],
   "source": [
    "'''Parameters and data'''\n",
    "\n",
    "diff_coeff = 0.1\n",
    "source_s = 1e-3\n",
    "\n",
    "u_a = 3\n",
    "u_b = 0"
   ]
  },
  {
   "cell_type": "code",
   "execution_count": 6,
   "metadata": {
    "ExecuteTime": {
     "end_time": "2021-12-11T06:40:20.045452Z",
     "start_time": "2021-12-11T06:40:20.043107Z"
    },
    "code_folding": []
   },
   "outputs": [],
   "source": [
    "'''FEM Solution'''\n",
    "\n",
    "n_felem = 3\n",
    "\n",
    "order = 'first'\n",
    "\n",
    "n_plot_pts = n_felem + 1\n",
    "n_plot_pts = 20"
   ]
  },
  {
   "cell_type": "code",
   "execution_count": 7,
   "metadata": {
    "ExecuteTime": {
     "end_time": "2021-12-11T06:40:20.517695Z",
     "start_time": "2021-12-11T06:40:20.507831Z"
    },
    "code_folding": [
     2
    ]
   },
   "outputs": [],
   "source": [
    "'''Write input file function'''\n",
    "\n",
    "def write_input_file():\n",
    "    import pyhit\n",
    "    import moosetree\n",
    "    root = pyhit.load('')\n",
    "\n",
    "    prblm = root.insert(-1,'Problem')\n",
    "    prblm['type'] = 'FEProblem'\n",
    "    prblm['coord_type'] = 'XYZ'\n",
    "\n",
    "    mesh = root.insert(-1,'Mesh')\n",
    "    \n",
    "    omega = mesh.insert(-1,'omega')\n",
    "    omega['type'] = 'GeneratedMeshGenerator'\n",
    "    omega['dim'] = 1\n",
    "    omega['xmin'] = x_a\n",
    "    omega['xmax'] = x_b\n",
    "    omega['nx'] = n_felem\n",
    "    if order == 'second':\n",
    "        omega['elem_type'] = 'edge3'\n",
    "\n",
    "    vars = root.insert(-1,'Variables')\n",
    "    \n",
    "    conc = vars.insert(-1,'u')\n",
    "    conc['order'] = order\n",
    "    conc['family'] = 'lagrange'\n",
    "    conc['initial_condition'] = (u_a+u_b)/2\n",
    "    \n",
    "    kernels = root.insert(-1,'Kernels')\n",
    "    \n",
    "    diff = kernels.insert(-1,'diffusion-term')\n",
    "    diff['type'] = 'DiffusionTerm'\n",
    "    diff['variable'] = 'u'\n",
    "    diff['diffCoeff'] = diff_coeff\n",
    "    \n",
    "    source = kernels.insert(-1,'source-term')\n",
    "    source['type'] = 'SourceTerm'\n",
    "    source['variable'] = 'u'\n",
    "    source['sourceS'] = source_s\n",
    "    source['coupledVariable'] = 'u'\n",
    "    \n",
    "    bcs = root.insert(-1,'BCs')\n",
    "    \n",
    "    xa = bcs.insert(-1,'entry-u')\n",
    "    xa['type'] = 'DirichletBC'\n",
    "    xa['variable'] = 'u'\n",
    "    xa['boundary'] = 'left'\n",
    "    xa['value'] = u_a\n",
    "    \n",
    "    xb = bcs.insert(-1,'exit-u')\n",
    "    xb['type'] = 'DirichletBC'\n",
    "    xb['variable'] = 'u'\n",
    "    xb['boundary'] = 'right'\n",
    "    xb['value'] = u_b\n",
    "\n",
    "    exe = root.insert(-1,'Executioner')\n",
    "    exe['type'] = 'Steady'\n",
    "    exe['solve_type']  = 'PJFNK'\n",
    "    exe['petsc_options_iname']  = '-pc_type -pc_hypre_type'\n",
    "    exe['petsc_options_value']  = 'hypre boomeramg'\n",
    "    exe['l_max_its']  = 20\n",
    "    exe['l_tol']  = 1e-5\n",
    "    exe['nl_max_its']  = 15\n",
    "    exe['nl_rel_tol']  = 1e-8\n",
    "    exe['nl_abs_tol']  = 1e-8\n",
    "\n",
    "    vp = root.insert(-1,'VectorPostprocessors')\n",
    "    omega = vp.insert(-1,'omega')\n",
    "    omega['type'] = 'LineValueSampler'\n",
    "    omega['execute_on'] = 'timestep_end final'\n",
    "    omega['variable'] = 'u'  \n",
    "    omega['start_point'] = str(x_a)+' 0 0'\n",
    "    omega['end_point'] = str(x_b)+' 0 0'\n",
    "    omega['num_points'] = n_plot_pts\n",
    "    omega['sort_by'] = 'id'\n",
    "\n",
    "    out = root.insert(-1,'Outputs')\n",
    "    out['console'] = 'true'\n",
    "    csv = out.insert(-1,'csv')\n",
    "    csv['type'] = 'CSV'\n",
    "    csv['file_base'] = 'output'\n",
    "    csv['execute_on'] = 'final'\n",
    "\n",
    "    pyhit.write('engy5310p1/input.hit', root)"
   ]
  },
  {
   "cell_type": "code",
   "execution_count": 8,
   "metadata": {
    "ExecuteTime": {
     "end_time": "2021-12-11T06:40:21.007737Z",
     "start_time": "2021-12-11T06:40:20.776807Z"
    }
   },
   "outputs": [
    {
     "ename": "ModuleNotFoundError",
     "evalue": "No module named 'pyhit'",
     "output_type": "error",
     "traceback": [
      "\u001b[0;31m---------------------------------------------------------------------------\u001b[0m",
      "\u001b[0;31mModuleNotFoundError\u001b[0m                       Traceback (most recent call last)",
      "\u001b[0;32m/var/folders/y5/wqhp_9z90sjccw_gdkz9bb380000gn/T/ipykernel_78276/4063538782.py\u001b[0m in \u001b[0;36m<module>\u001b[0;34m\u001b[0m\n\u001b[1;32m      1\u001b[0m \u001b[0;34m'''Write input file'''\u001b[0m\u001b[0;34m\u001b[0m\u001b[0;34m\u001b[0m\u001b[0m\n\u001b[0;32m----> 2\u001b[0;31m \u001b[0mwrite_input_file\u001b[0m\u001b[0;34m(\u001b[0m\u001b[0;34m)\u001b[0m\u001b[0;34m\u001b[0m\u001b[0;34m\u001b[0m\u001b[0m\n\u001b[0m",
      "\u001b[0;32m/var/folders/y5/wqhp_9z90sjccw_gdkz9bb380000gn/T/ipykernel_78276/4061184643.py\u001b[0m in \u001b[0;36mwrite_input_file\u001b[0;34m()\u001b[0m\n\u001b[1;32m      2\u001b[0m \u001b[0;34m\u001b[0m\u001b[0m\n\u001b[1;32m      3\u001b[0m \u001b[0;32mdef\u001b[0m \u001b[0mwrite_input_file\u001b[0m\u001b[0;34m(\u001b[0m\u001b[0;34m)\u001b[0m\u001b[0;34m:\u001b[0m\u001b[0;34m\u001b[0m\u001b[0;34m\u001b[0m\u001b[0m\n\u001b[0;32m----> 4\u001b[0;31m     \u001b[0;32mimport\u001b[0m \u001b[0mpyhit\u001b[0m\u001b[0;34m\u001b[0m\u001b[0;34m\u001b[0m\u001b[0m\n\u001b[0m\u001b[1;32m      5\u001b[0m     \u001b[0;32mimport\u001b[0m \u001b[0mmoosetree\u001b[0m\u001b[0;34m\u001b[0m\u001b[0;34m\u001b[0m\u001b[0m\n\u001b[1;32m      6\u001b[0m     \u001b[0mroot\u001b[0m \u001b[0;34m=\u001b[0m \u001b[0mpyhit\u001b[0m\u001b[0;34m.\u001b[0m\u001b[0mload\u001b[0m\u001b[0;34m(\u001b[0m\u001b[0;34m''\u001b[0m\u001b[0;34m)\u001b[0m\u001b[0;34m\u001b[0m\u001b[0;34m\u001b[0m\u001b[0m\n",
      "\u001b[0;31mModuleNotFoundError\u001b[0m: No module named 'pyhit'"
     ]
    }
   ],
   "source": [
    "'''Write input file'''\n",
    "write_input_file()"
   ]
  },
  {
   "cell_type": "code",
   "execution_count": null,
   "metadata": {
    "ExecuteTime": {
     "end_time": "2021-12-11T06:40:21.216442Z",
     "start_time": "2021-12-11T06:40:21.208404Z"
    },
    "code_folding": []
   },
   "outputs": [],
   "source": [
    "'''OLD: Write input file'''\n",
    "\n",
    "#try:    \n",
    "#    from engy_5310.toolkit import write_engy5310_p1_1d_input_file  \n",
    "#except ModuleNotFoundError:\n",
    "#    assert False, 'You need to provide your own code here. Bailing out.'\n",
    "\n",
    "#write_engy5310_p1_1d_input_file(x_left=x_a, x_right=x_b, u_left=u_a, u_right=u_b, \n",
    "#                                diff_coeff=diff_coeff, source_s=source_s, n_felem=n_felem, order=order, \n",
    "#                                n_plot_pts=n_plot_pts)"
   ]
  },
  {
   "cell_type": "code",
   "execution_count": null,
   "metadata": {
    "ExecuteTime": {
     "end_time": "2021-12-11T06:40:22.677052Z",
     "start_time": "2021-12-11T06:40:22.565492Z"
    },
    "scrolled": true
   },
   "outputs": [],
   "source": [
    "'''Display MOOSE input file created'''\n",
    "\n",
    "!cat engy5310p1/input.hit"
   ]
  },
  {
   "cell_type": "code",
   "execution_count": null,
   "metadata": {
    "ExecuteTime": {
     "end_time": "2021-12-11T06:40:27.503098Z",
     "start_time": "2021-12-11T06:40:27.192454Z"
    },
    "scrolled": true
   },
   "outputs": [],
   "source": [
    "'''Run Engy5310P1 MOOSE App'''\n",
    "\n",
    "!engy5310p1/engy5310p1-opt -i engy5310p1/input.hit"
   ]
  },
  {
   "cell_type": "code",
   "execution_count": null,
   "metadata": {
    "ExecuteTime": {
     "end_time": "2021-12-11T06:40:41.171046Z",
     "start_time": "2021-12-11T06:40:41.005824Z"
    },
    "code_folding": [
     2
    ]
   },
   "outputs": [],
   "source": [
    "'''Show FEM Solution'''\n",
    "\n",
    "import pandas as pd\n",
    "df = pd.read_csv('output_omega_0002.csv')\n",
    "    \n",
    "plot_solution(df, title='Dirichlet BC FEM Solution', basis_functions_type='Linear Lagrange', flux_basis_functions_type='Constant Monomial')"
   ]
  },
  {
   "cell_type": "markdown",
   "metadata": {},
   "source": [
    "**Comments:**\n",
    "\n",
    "1. The *concentration* drops from the entry value to the exit as prescribed by the boundary conditions.\n",
    "1. Because of the source term the profile is quadratic.\n",
    "1. Since the linear Lagrange basis functions are used with 3 finite elements, 3 linear sections approximate the solution.\n",
    "1. The diffusion flux is positive everywhere, $q(x) >0$, since the normal diffusion flux on the left boundary is $q_n(a) := -q(a)$, then there is *feed* on the left boundary. On the right boundary $q_n(b) := q(b) > 0$ and there is *draining* at $x=b$."
   ]
  },
  {
   "cell_type": "markdown",
   "metadata": {},
   "source": [
    "### [FEM Error](#toc)<a id=\"linearerror\"></a>"
   ]
  },
  {
   "cell_type": "code",
   "execution_count": null,
   "metadata": {
    "ExecuteTime": {
     "end_time": "2021-12-11T06:40:44.446188Z",
     "start_time": "2021-12-11T06:40:44.225403Z"
    }
   },
   "outputs": [],
   "source": [
    "'''Error Compared to Exact Dimensionless Solution'''\n",
    "\n",
    "plot_solution_error(df, fem_type='FEM Linear Lagrange')"
   ]
  },
  {
   "cell_type": "markdown",
   "metadata": {},
   "source": [
    "**Comments:**\n",
    "\n",
    "1. Error as compared to the exact dimensionless solution is zero at the boundary of the linear sections but not in between.\n",
    "1. Even with linear Lagrange basis functions the error is relatively small proving that the use of basis functions of compact support is attractive."
   ]
  },
  {
   "cell_type": "markdown",
   "metadata": {},
   "source": [
    "## [Quadratic Lagrange FEM](#toc)<a id=\"dbcquadfemresults\"></a>\n",
    "\n",
    "Solve problem with parameter values:\n",
    "\n",
    "> + a = 0 cm\n",
    "> + b = 25 cm\n",
    "> + A = 3 g/cc\n",
    "> + B = 0 g/cc\n",
    "> + D = 0.1 cm^2/s\n",
    "> + S = 1e-3 g/cc-s\n",
    "\n",
    "FEM parameters:\n",
    "\n",
    "> + Basis Functions: Second Order Lagrangian\n",
    "> + num. of finite elements: 1"
   ]
  },
  {
   "cell_type": "markdown",
   "metadata": {},
   "source": [
    "The input file needs changes to select the higher order approximation:\n",
    "\n",
    "```\n",
    "[Mesh]\n",
    " [1d]                                # any lower case name; this is our 1D block\n",
    "  type = GeneratedMeshGenerator  \n",
    "  dim = 1 \n",
    "  xmin = 0 \n",
    "  xmax = 25\n",
    "  nx = 1 \n",
    "  elem_type = edge3                  # this goes with the second order Lagrange basis functions below\n",
    " []\n",
    "[]\n",
    "\n",
    "[Variables]\n",
    " [u]                                 # our unknown variable to be related to below\n",
    "  order = second                     # MOOSE second order Lagrange basis functions\n",
    "  family = lagrange\n",
    " []\n",
    "[]\n",
    "```"
   ]
  },
  {
   "cell_type": "code",
   "execution_count": null,
   "metadata": {
    "ExecuteTime": {
     "end_time": "2021-12-11T06:40:50.609530Z",
     "start_time": "2021-12-11T06:40:50.607132Z"
    }
   },
   "outputs": [],
   "source": [
    "'''FEM Solution'''\n",
    "\n",
    "n_felem = 1\n",
    "\n",
    "order = 'second'\n",
    "\n",
    "#n_plot_pts = 2*n_felem + 1\n",
    "n_plot_pts = 20"
   ]
  },
  {
   "cell_type": "code",
   "execution_count": null,
   "metadata": {
    "ExecuteTime": {
     "end_time": "2021-12-11T06:40:52.448699Z",
     "start_time": "2021-12-11T06:40:52.445607Z"
    }
   },
   "outputs": [],
   "source": [
    "'''OLD-FEM Solution'''\n",
    "\n",
    "#try:    \n",
    "#    from engy_5310.toolkit import write_engy5310_p1_1d_input_file  \n",
    "#except ModuleNotFoundError:\n",
    "#    assert False, 'You need to provide your own code here. Bailing out.'\n",
    "\n",
    "#write_engy5310_p1_1d_input_file(x_left=x_a, x_right=x_b, u_left=u_a, u_right=u_b, \n",
    "#                                diff_coeff=diff_coeff, source_s=source_s, n_felem=n_felem, order=order, \n",
    "#                                n_plot_pts=n_plot_pts)"
   ]
  },
  {
   "cell_type": "code",
   "execution_count": null,
   "metadata": {
    "ExecuteTime": {
     "end_time": "2021-12-11T06:41:39.999310Z",
     "start_time": "2021-12-11T06:41:39.996130Z"
    }
   },
   "outputs": [],
   "source": [
    "'''Write input file'''\n",
    "write_input_file()"
   ]
  },
  {
   "cell_type": "code",
   "execution_count": null,
   "metadata": {
    "ExecuteTime": {
     "end_time": "2021-12-11T06:41:40.434816Z",
     "start_time": "2021-12-11T06:41:40.323527Z"
    },
    "scrolled": true
   },
   "outputs": [],
   "source": [
    "'''Display MOOSE input file created'''\n",
    "\n",
    "!cat engy5310p1/input.hit"
   ]
  },
  {
   "cell_type": "code",
   "execution_count": null,
   "metadata": {
    "ExecuteTime": {
     "end_time": "2021-12-11T06:41:42.290901Z",
     "start_time": "2021-12-11T06:41:41.967851Z"
    }
   },
   "outputs": [],
   "source": [
    "'''Run Engy5310P1 MOOSE App'''\n",
    "\n",
    "!engy5310p1/engy5310p1-opt -i engy5310p1/input.hit"
   ]
  },
  {
   "cell_type": "code",
   "execution_count": null,
   "metadata": {
    "ExecuteTime": {
     "end_time": "2021-12-11T06:41:42.915016Z",
     "start_time": "2021-12-11T06:41:42.756298Z"
    }
   },
   "outputs": [],
   "source": [
    "'''Show FEM Solution'''\n",
    "\n",
    "import pandas as pd\n",
    "df = pd.read_csv('output_omega_0002.csv')\n",
    "\n",
    "plot_solution(df, title='Dirichlet BC FEM Solution', basis_functions_type='Quadratic Lagrange', flux_basis_functions_type='Linear Monomial')"
   ]
  },
  {
   "cell_type": "markdown",
   "metadata": {},
   "source": [
    "### [FEM Error](#toc)<a id=\"quaderror\"></a>\n"
   ]
  },
  {
   "cell_type": "code",
   "execution_count": null,
   "metadata": {
    "ExecuteTime": {
     "end_time": "2021-12-11T06:41:46.257239Z",
     "start_time": "2021-12-11T06:41:46.000340Z"
    }
   },
   "outputs": [],
   "source": [
    "'''Error Compared to Exact Dimensionless Solution'''\n",
    "\n",
    "plot_solution_error(df, fem_type='FEM Quadratic Lagrange')"
   ]
  },
  {
   "cell_type": "markdown",
   "metadata": {},
   "source": [
    "**Comments:**\n",
    "\n",
    "1. Usage of one quadratic Lagrange finite element reproduces the exact solution; as it had to."
   ]
  },
  {
   "cell_type": "markdown",
   "metadata": {},
   "source": [
    "## [Diffusion Flux Postprocessing](#toc)<a id=\"diffusionfluxpostpro\"></a>\n",
    "\n",
    "The diffusion flux is needed in the [Poisson-Dirichlet energy](#energy) integral. This section describes the post-processing operation of calculating the flux $q$ from $u$. There are two ways to postprocess the diffusion flux as described below. In both of them, an auxiliary variable needs to be created."
   ]
  },
  {
   "cell_type": "markdown",
   "metadata": {},
   "source": [
    "### [Auxiliary Variable](#toc)<a id=\"auxvar\"></a>\n",
    "\n",
    "A derived variable for the diffusion flux calculated from the unknown $u$ needs to be specified in the `MOOSE` input file. The shape of the basis functions used for the diffusion flux should be consistent with the choice used for the $u$ variable. For example:\n",
    "\n",
    "```\n",
    "[Variables]\n",
    "  [u]\n",
    "    order = second\n",
    "    family = lagrange\n",
    "  []\n",
    "[]\n",
    "\n",
    "[AuxVariables]\n",
    "  [diffFluxU_x]           # user-named diffusion flux component in x\n",
    "    order = FIRST\n",
    "    family = MONOMIAL\n",
    "  []\n",
    "[]\n",
    "```"
   ]
  },
  {
   "cell_type": "markdown",
   "metadata": {},
   "source": [
    "### [Use `MOOSE` Diffusion Flux Auxiliary Kernel](#toc)<a id=\"auxdiffflux\"></a>\n",
    "\n",
    "One way to compute the derivative of $u$ is to use the `MOOSE` framework `DiffusionFluxAux` kernel.\n",
    "It is available for computing the flux $q$ so the flux can be computed directly using the `MOOSE` input file as follows:\n",
    "\n",
    "```\n",
    "[AuxKernels]\n",
    "  [diffusion-flux-x]\n",
    "    execute_on = timestep_end\n",
    "    type = DiffusionFluxAux   # MOOSE provided\n",
    "    diffusivity = ${replace diff_coeff}\n",
    "    variable = diffFluxU_x\n",
    "    diffusion_variable = u\n",
    "    component = x\n",
    "  []\n",
    "[]\n",
    "```\n",
    "\n",
    "Also, you need to output the values of flux for plotting; just add the newly created auxiliary field to the list of variables (`# output data`) on the `VectorPostprocessors` block output file, that is:\n",
    "\n",
    "```\n",
    "[VectorPostprocessors]\n",
    "  [x-data]\n",
    "    type = LineValueSampler\n",
    "    execute_on = 'timestep_end final'\n",
    "    variable = 'u diffFluxU_x'            # output data\n",
    "    start_point = '${replace xmin} 0 0'\n",
    "    end_point = '${replace xmax} 0 0'\n",
    "    num_points = 20\n",
    "    sort_by = id\n",
    "  []\n",
    "[]\n",
    "```"
   ]
  },
  {
   "cell_type": "code",
   "execution_count": null,
   "metadata": {
    "ExecuteTime": {
     "end_time": "2021-12-11T06:42:00.646959Z",
     "start_time": "2021-12-11T06:42:00.644664Z"
    },
    "code_folding": []
   },
   "outputs": [],
   "source": [
    "'''FEM Solution'''\n",
    "\n",
    "n_felem = 1\n",
    "\n",
    "order = 'second'\n",
    "\n",
    "#n_plot_pts = 2*n_felem + 1\n",
    "n_plot_pts = 20"
   ]
  },
  {
   "cell_type": "code",
   "execution_count": null,
   "metadata": {
    "ExecuteTime": {
     "end_time": "2021-12-11T06:42:03.700948Z",
     "start_time": "2021-12-11T06:42:03.697244Z"
    },
    "code_folding": []
   },
   "outputs": [],
   "source": [
    "'''OLD-Write input file'''\n",
    "\n",
    "try:    \n",
    "    from engy_5310.moose_toolkit import write_engy5310_p1_1d_input_file  \n",
    "except ModuleNotFoundError:\n",
    "    assert False, 'You need to provide your own code here. Bailing out.'\n",
    "\n",
    "write_engy5310_p1_1d_input_file(x_left=x_a, x_right=x_b, u_left=u_a, u_right=u_b, \n",
    "                                diff_coeff=diff_coeff, source_s=source_s, n_felem=n_felem, order=order, \n",
    "                                n_plot_pts=n_plot_pts, \n",
    "                                compute_diffusion_flux=True, use_moose_diffusion_flux=True)"
   ]
  },
  {
   "cell_type": "code",
   "execution_count": null,
   "metadata": {},
   "outputs": [],
   "source": [
    "'''Write input file'''\n",
    "\n",
    "#write_input_file()"
   ]
  },
  {
   "cell_type": "code",
   "execution_count": null,
   "metadata": {
    "scrolled": true
   },
   "outputs": [],
   "source": [
    "'''Display MOOSE input file created'''\n",
    "\n",
    "!cat engy5310p1/input.hit"
   ]
  },
  {
   "cell_type": "code",
   "execution_count": null,
   "metadata": {},
   "outputs": [],
   "source": [
    "'''Run Engy5310P1 MOOSE App'''\n",
    "\n",
    "!engy5310p1/engy5310p1-opt -i engy5310p1/input.hit"
   ]
  },
  {
   "cell_type": "code",
   "execution_count": null,
   "metadata": {},
   "outputs": [],
   "source": [
    "'''Show FEM Solution'''\n",
    "\n",
    "import pandas as pd\n",
    "df = pd.read_csv('output_omega-data_0002.csv')\n",
    "\n",
    "plot_solution(df, title='Dirichlet BC FEM Solution', basis_functions_type='Quadratic Lagrange', flux_basis_functions_type='Linear Monomial')"
   ]
  },
  {
   "cell_type": "markdown",
   "metadata": {},
   "source": [
    "#### [Compute Error](#toc)<a id=\"difffluxerror1\"></a>\n"
   ]
  },
  {
   "cell_type": "code",
   "execution_count": null,
   "metadata": {},
   "outputs": [],
   "source": [
    "'''Flux Error Compared to Exact Dimensionless Solution'''\n",
    "\n",
    "plot_flux_error(df, fem_type='FEM Quadratic Lagrange')"
   ]
  },
  {
   "cell_type": "markdown",
   "metadata": {},
   "source": [
    "### [Code a Diffusion Flux Auxiliary Kernel](#toc)<a id=\"auxdiffflux2\"></a>\n",
    "\n",
    "An alternative way to compute the flux of $u$ is to program an auxiliary kernel. This is a worthwhile investment for learning how to implement an auxiliary kernel; in the future when the flux is needed as a vector quantity, this learning experience will be leveraged. There are two ways to do this: one, is to postprocess the $x$ component of the flux as done in the `MOOSE` auxiliary kernel. The other way is to postprocess the flux vector. The choice matters because the parent class for the auxiliary kernel is different depending on the returned data type; scalar versus vector.\n",
    "\n",
    "#### Flux component\n",
    "\n",
    "1. `cd include`\n",
    "1. `mkdir auxkernels`\n",
    "1. `cd auxkernels`\n",
    "1. Create a `DiffusionFluxComponent.h` class interface as folows:\n",
    " + Use the `FluxComponent.h` [course template](https://github.com/dpploy/engy-5310/blob/main/moose-app-templates/FluxComponent.h) as follows:\n",
    " + `cp *path-to*/moose-app-templates/FluxComponent.h .`\n",
    " + `mv FluxComponent.h DiffusionFluxComponent.h`\n",
    " + Edit the file `DiffusionFluxComponent.h` with a text editor by replacing all instances of `FluxComponent` with `DiffusionFluxComponent`.\n",
    " + Declare member variables in the header files for example:\n",
    " ```c++\n",
    "   /// Will hold 0, 1, or 2 corresponding to x, y, or z.\n",
    "  int _component;\n",
    "  /// The gradient of a coupled variable\n",
    "  const VariableGradient & _gradU;\n",
    "  /// Add here other parameters needed\n",
    "  Real _diffCoeff;\n",
    " ```\n",
    "1. `cd ../..`\n",
    "1. `cd src`\n",
    "1. `mkdir auxkernels`\n",
    "1. `cd auxkernels`\n",
    "1. Create a `DiffusionFluxComponent.C` class implementation as follows:\n",
    " + Use the `FluxComponent.C` [course template](https://github.com/dpploy/engy-5310/blob/main/moose-app-templates/FluxComponent.C) as follows.\n",
    " + `cp *path-to*/moose-app-templates/FluxComponent.C .`\n",
    " + `mv FluxComponent.C DiffusionFluxComponent.C`\n",
    " + Edit the file `DiffusionFluxComponent.C` with a text editor by replacing all instances of `FluxComponent` with `DiffusionFluxComponent`.\n",
    " + You will need to program the *computeValue()* method. <span style=\"color:red\">This portion of the implementation is convered in class.</span> Here is an example of what the method would look like:\n",
    "```c++\n",
    "DiffusionFluxComponent::DiffusionFluxComponent(const InputParameters & parameters)\n",
    "  : AuxKernel(parameters),\n",
    "    // Initialize the flux component\n",
    "    _component(getParam<MooseEnum>(\"component\")),\n",
    "    // Initialize variable gradient\n",
    "    _gradU(coupledGradient(\"field\")),\n",
    "    // Initialize parameters\n",
    "    _diffCoeff(getParam<Real>(\"diffCoeff\"))\n",
    "{\n",
    "}\n",
    "Real\n",
    "DiffusionFluxComponent::computeValue()\n",
    "{\n",
    "  return - _diffCoeff * _gradU[_qp](_component);\n",
    "}\n",
    "```\n",
    "Depending on your implementation, the `MOOSE` input block may look like this:\n",
    "\n",
    "```\n",
    "[AuxKernels]\n",
    "  [diffusion-flux-x]\n",
    "    execute_on = timestep_end\n",
    "    type = DiffusionFluxComponent       # user-built auxiliary kernel\n",
    "    field = u                           # user-defined parameter\n",
    "    diffCoeff = ${replace diff_coeff}   # user-defined parameter\n",
    "    component = x                       # user-defined parameter\n",
    "    variable = diffFluxU_x              # produced quantity\n",
    "  []\n",
    "[]\n",
    "```\n",
    "\n",
    "#### Flux vector (preferred option)\n",
    "\n",
    "1. `cd include`\n",
    "1. `mkdir auxkernels`\n",
    "1. `cd auxkernels`\n",
    "1. Create a `DiffusionFlux.h` class interface as folows:\n",
    " + Use the `FluxVector.h` [course template](https://github.com/dpploy/engy-5310/blob/main/moose-app-templates/FluxVector.h) as follows:\n",
    " + `cp *path-to*/moose-app-templates/FluxVector.h .`\n",
    " + `mv VectorFlux.h DiffusionFlux.h`\n",
    " + Edit the file `DiffusionFlux.h` with a text editor by replacing all instances of `FluxVector` with `DiffusionFlux`.\n",
    " + Declare member variables in the header files for example:\n",
    " ```c++\n",
    "  /// The gradient of a coupled variable\n",
    "  const VariableGradient & _gradU;\n",
    "  /// Add here other parameters needed\n",
    "  Real _diffCoeff;\n",
    " ```\n",
    "1. `cd ../..`\n",
    "1. `cd src`\n",
    "1. `mkdir auxkernels`\n",
    "1. `cd auxkernels`\n",
    "1. Create a `DiffusionFlux.C` class implementation as follows:\n",
    " + Use the `FluxVector.C` [course template](https://github.com/dpploy/engy-5310/blob/main/moose-app-templates/FluxVector.C) as follows.\n",
    " + `cp *path-to*/moose-app-templates/FluxVector.C .`\n",
    " + `mv FluxVector.C DiffusionFlux.C`\n",
    " + Edit the file `DiffusionFlux.C` with a text editor by replacing all instances of `FluxVector` with `DiffusionFlux`.\n",
    " + You will need to program the *computeValue()* method. <span style=\"color:red\">This portion of the implementation is convered in class.</span> Here is an example of what the method would look like:\n",
    "```c++\n",
    "DiffusionFlux::DiffusionFlux(const InputParameters & parameters)\n",
    "  : VectorAuxKernel(parameters),\n",
    "    // Initialize variable gradient\n",
    "    _gradU(coupledGradient(\"field\")),\n",
    "    // Initialize parameters\n",
    "    _diffCoeff(getParam<Real>(\"diffCoeff\"))\n",
    "{\n",
    "}\n",
    "RealVectorValue\n",
    "DiffusionFlux::computeValue()\n",
    "{\n",
    "  return - _diffCoeff * _gradU[_qp];\n",
    "}\n",
    "```\n",
    "\n",
    "Depending on your implementation, the `MOOSE` input block may look like this:\n",
    "\n",
    "```\n",
    "[AuxKernels]\n",
    "  [diffusion-flux]\n",
    "    execute_on = timestep_end\n",
    "    type = DiffusionFlux      # user coded kernel\n",
    "    field = u\n",
    "    diffCoeff = ${replace diff_coeff}\n",
    "    variable = diffFluxU     # produced quantity\n",
    "  []\n",
    "  [diffusion-flux-x]\n",
    "    execute_on = timestep_end\n",
    "    type = VectorVariableComponentAux    #  MOOSE provided\n",
    "    variable = diffFluxU_x    # produced quantity\n",
    "    component = x\n",
    "    vector_variable = diffFluxU   \n",
    "  []\n",
    "[]\n",
    "```"
   ]
  },
  {
   "cell_type": "markdown",
   "metadata": {},
   "source": [
    "### [Compile and Link Application](#toc)<a id=\"compile2\"></a>\n",
    "\n",
    "1. Make sure you are in the problem project directory:\n",
    " + `pwd`\n",
    "1. You should see: `..../engy5310p1`\n",
    "1. Compile and link the application\n",
    " + `make`\n",
    "1. If all is sucessfull you should see among other things in the screen output:\n",
    " + Linking Library `.../engy5310p1/lib/libengy5310p1-opt.la...`\n",
    " + Linking Executable `.../engy5310p1/engy5310p1-opt...`"
   ]
  },
  {
   "cell_type": "code",
   "execution_count": null,
   "metadata": {
    "code_folding": [
     14
    ]
   },
   "outputs": [],
   "source": [
    "'''FEM Solution'''\n",
    "\n",
    "n_felem = 1\n",
    "\n",
    "order = 'second'\n",
    "\n",
    "#n_plot_pts = 2*n_felem + 1\n",
    "n_plot_pts = 20\n",
    "\n",
    "try:    \n",
    "    from engy_5310.moose_toolkit import write_engy5310_p1_1d_input_file  \n",
    "except ModuleNotFoundError:\n",
    "    assert False, 'You need to provide your own code here. Bailing out.'\n",
    "\n",
    "write_engy5310_p1_1d_input_file(x_left=x_a, x_right=x_b, u_left=u_a, u_right=u_b, \n",
    "                                diff_coeff=diff_coeff, source_s=source_s, n_felem=n_felem, order=order, \n",
    "                                n_plot_pts=n_plot_pts, compute_diffusion_flux=True)"
   ]
  },
  {
   "cell_type": "code",
   "execution_count": null,
   "metadata": {
    "scrolled": true
   },
   "outputs": [],
   "source": [
    "'''Display MOOSE input file created'''\n",
    "\n",
    "!cat engy5310p1/input.hit"
   ]
  },
  {
   "cell_type": "code",
   "execution_count": null,
   "metadata": {},
   "outputs": [],
   "source": [
    "'''Run Engy5310P1 MOOSE App'''\n",
    "\n",
    "!engy5310p1/engy5310p1-opt -i engy5310p1/input.hit"
   ]
  },
  {
   "cell_type": "code",
   "execution_count": null,
   "metadata": {},
   "outputs": [],
   "source": [
    "'''Show FEM Solution'''\n",
    "\n",
    "import pandas as pd\n",
    "df = pd.read_csv('output_omega-data_0002.csv')\n",
    "\n",
    "plot_solution(df, title='Dirichlet BC FEM Solution', basis_functions_type='Quadratic Lagrange', flux_basis_functions_type='Linear Monomial')"
   ]
  },
  {
   "cell_type": "markdown",
   "metadata": {},
   "source": [
    "#### [Compute Error](#toc)<a id=\"difffluxerror2\"></a>"
   ]
  },
  {
   "cell_type": "code",
   "execution_count": null,
   "metadata": {},
   "outputs": [],
   "source": [
    "'''Error Compared to Exact Dimensionless Solution'''\n",
    "\n",
    "plot_flux_error(df, fem_type='FEM Quadratic Lagrange')"
   ]
  },
  {
   "cell_type": "markdown",
   "metadata": {},
   "source": [
    "## [Energy Postprocessing](#toc)<a id=\"energypostpro\"></a>\n",
    "\n",
    "To compute the [Poisson-Dirichlet energy](#energy) a *Postprocessor* needs to be built. The user-developed class should use the previously computed diffusion flux component. With an eye towards the future use of this application in 2D and 3D, call this new class, `BulkEnergy`."
   ]
  },
  {
   "cell_type": "markdown",
   "metadata": {},
   "source": [
    "### [Code the Energy Postprocessor](#toc)<a id=\"postpro\"></a>\n",
    "\n",
    "1. `cd include`\n",
    "1. `mkdir postprocessors`\n",
    "1. `cd postprocessors`\n",
    "1. Create a `BulkEnergy.h` class interface as folows:\n",
    " + Use the `ScalarVariableIntegralPostprocessor.h` [course template](https://github.com/dpploy/engy-5310/blob/main/moose-app-templates/ScalarVariableIntegralPostprocessor.h) as follows:\n",
    " + `cp *path-to*/moose-app-templates/ScalarVariableIntegralPostprocessor.h .`\n",
    " + `mv ScalarVariableIntegralPostprocessor.h BulkEnergy.h`\n",
    " + Edit the file `BulkEnergy.h` with a text editor by replacing all instances of `ScalarVariableIntegralPostprocessor` with `BulkEnergy`.\n",
    " + Declare variables in the header file; for example:\n",
    " ```c++\n",
    "  Real _diffCoeff;\n",
    "  Real _sourceS;\n",
    "  const VariableValue & _u;\n",
    "  const VariableValue & _q_i;\n",
    " ```\n",
    "1. `cd ../..`\n",
    "1. `cd src`\n",
    "1. `mkdir postprocessors`\n",
    "1. `cd postprocessors`\n",
    "1. Create a `BulkEnergy.C` class implementation as follows:\n",
    " + Use the `ScalarVariableIntegralPostprocessor.C` [course template](https://github.com/dpploy/engy-5310/blob/main/moose-app-templates/ScalarVariableIntegralPostprocessor.C) as follows.\n",
    " + `cp *path-to*/moose-app-templates/ScalarVariableIntegralPostprocessor.C .`\n",
    " + `mv ScalarVariableIntegralPostprocessor.C BulkEnergy.C`\n",
    " + Edit the file `BulkEnergy.C` with a text editor by replacing all instances of `ScalarVariableIntegralPostprocessor` with `BulkEnergy`.\n",
    " + You will need to program the *computeValue()* method for the energy:\n",
    " \\begin{align*}\n",
    " \\Phi[u] := \\int\\limits_a^b \\,\\frac{1}{2}\\bigl(q(x)\\bigr)^2 - D\\,S\\,u(x) \\,dx.\n",
    "\\end{align*}\n",
    "See the example below for the input file *Postprocessor* block and the parameters needed. <span style=\"color:red\">This portion of the implementation is convered in class.</span>\n",
    "For example:\n",
    "```c++\n",
    "Real\n",
    "BulkEnergy::computeQpIntegral()\n",
    "{\n",
    "  RealVectorValue q_qp = -_diffCoeff * _gradU[_qp];\n",
    "  return 1.0/2.0 * q_qp*q_qp - _diffCoeff * _sourceS * _u[_qp]; // q_qp*q_qp dot product\n",
    "}\n",
    "```"
   ]
  },
  {
   "cell_type": "markdown",
   "metadata": {},
   "source": [
    "### [Compile and Link Application](#toc)<a id=\"compilelink2\"></a>\n",
    "\n",
    "1. Make sure you are in the problem project directory:\n",
    " + `pwd`\n",
    "1. You should see: `..../engy5310p1`\n",
    "1. Compile and link the application\n",
    " + `make`\n",
    "1. If all is sucessfull you should see among other things in the screen output:\n",
    " + Linking Library `.../engy5310p1/lib/libengy5310p1-opt.la...`\n",
    " + Linking Executable `.../engy5310p1/engy5310p1-opt...`"
   ]
  },
  {
   "cell_type": "markdown",
   "metadata": {},
   "source": [
    "### [Input File](#toc)<a id=\"energyinput\"></a>\n",
    "\n",
    "A new *Postprocessors* block should be created; an example follows:\n",
    "\n",
    "```\n",
    "[Postprocessors]\n",
    "  [bulk-energy]\n",
    "    type = BulkEnergy                                    # user-defined\n",
    "    execute_on = 'timestep_end final'\n",
    "    variable = 'u'     # bulk energy unknown variable    # user-defined \n",
    "    diffCoeff = ${replace diff_coeff}                    # user-defined\n",
    "    sourceS = ${replace source_s}                        # user-defined\n",
    "  []\n",
    "[]\n",
    "```"
   ]
  },
  {
   "cell_type": "markdown",
   "metadata": {},
   "source": [
    "### [Run Application](#toc)<a id=\"runenergy\"></a>\n",
    "\n",
    "Using an updated input file (see below) run the application as follows:\n",
    "1. In the `engy5310p1/` directory run the application with the Linux shell command:\n",
    " + `./engy5310p1-opt -i input.hit`\n",
    "2. Compare your results with this notebook results below.\n",
    "3. Return here to follow instructions on how to implement the calculation of the total energy."
   ]
  },
  {
   "cell_type": "markdown",
   "metadata": {},
   "source": [
    "### [Energy Results](#toc)<a id=\"energyresults\"></a>"
   ]
  },
  {
   "cell_type": "code",
   "execution_count": null,
   "metadata": {
    "code_folding": [
     14
    ]
   },
   "outputs": [],
   "source": [
    "'''FEM Solution'''\n",
    "\n",
    "n_felem = 1\n",
    "\n",
    "order = 'second'\n",
    "\n",
    "#n_plot_pts = 2*n_felem + 1\n",
    "n_plot_pts = 20\n",
    "\n",
    "try:    \n",
    "    from engy_5310.moose_toolkit import write_engy5310_p1_1d_input_file  \n",
    "except ModuleNotFoundError:\n",
    "    assert False, 'You need to provide your own code here. Bailing out.'\n",
    "\n",
    "write_engy5310_p1_1d_input_file(x_left=x_a, x_right=x_b, u_left=u_a, u_right=u_b, \n",
    "                                diff_coeff=diff_coeff, source_s=source_s, n_felem=n_felem, order=order, \n",
    "                                n_plot_pts=n_plot_pts, compute_energy=True)"
   ]
  },
  {
   "cell_type": "code",
   "execution_count": null,
   "metadata": {
    "scrolled": true
   },
   "outputs": [],
   "source": [
    "'''Display MOOSE input file created'''\n",
    "\n",
    "!cat engy5310p1/input.hit"
   ]
  },
  {
   "cell_type": "code",
   "execution_count": null,
   "metadata": {
    "scrolled": true
   },
   "outputs": [],
   "source": [
    "'''Run Engy5310P1 MOOSE App'''\n",
    "\n",
    "!engy5310p1/engy5310p1-opt -i engy5310p1/input.hit"
   ]
  },
  {
   "cell_type": "markdown",
   "metadata": {},
   "source": [
    "#### [Compute Error](#toc)<a id=\"energyerror\"></a>"
   ]
  },
  {
   "cell_type": "code",
   "execution_count": null,
   "metadata": {},
   "outputs": [],
   "source": [
    "import pandas as pd\n",
    "df = pd.read_csv('output_energy.csv')\n",
    "\n",
    "fem_energy = df['bulk-energy'][0]\n",
    "\n",
    "L = x_length\n",
    "\n",
    "fem_energy_hat = fem_energy/source_s**2/L**3\n",
    "print('FEM energy   [] = %10.6e'%(fem_energy_hat))\n",
    "\n",
    "try:    \n",
    "    from engy_5310.moose_toolkit import engy5310_p1_exact_solution  \n",
    "except ModuleNotFoundError:\n",
    "    assert False, 'You need to provide your own code here. Bailing out.'\n",
    "\n",
    "(_, _, energy_hat) = engy5310_p1_exact_solution(x_a, x_b, u_a, u_b, diff_coeff, source_s)\n",
    "\n",
    "print('Exact energy [] = %10.6e'%(energy_hat))\n",
    "\n",
    "print('Energy rel. error [%%] = %10.3e'%((fem_energy_hat-energy_hat)/energy_hat*100))"
   ]
  },
  {
   "cell_type": "markdown",
   "metadata": {},
   "source": [
    "## [Application Tree](#toc)<a id=\"tree\"></a>\n",
    "\n",
    "This tree printout helps the understanding of various pieces of the `MOOSE` application repository created after all the above steps including future implementations in the notebooks following the present one that cover various boundary conditions."
   ]
  },
  {
   "cell_type": "code",
   "execution_count": null,
   "metadata": {},
   "outputs": [],
   "source": [
    "!tree engy5310p1"
   ]
  },
  {
   "cell_type": "code",
   "execution_count": null,
   "metadata": {},
   "outputs": [],
   "source": []
  }
 ],
 "metadata": {
  "kernelspec": {
   "display_name": "Python 3 (ipykernel)",
   "language": "python",
   "name": "python3"
  },
  "language_info": {
   "codemirror_mode": {
    "name": "ipython",
    "version": 3
   },
   "file_extension": ".py",
   "mimetype": "text/x-python",
   "name": "python",
   "nbconvert_exporter": "python",
   "pygments_lexer": "ipython3",
   "version": "3.8.12"
  },
  "latex_envs": {
   "LaTeX_envs_menu_present": true,
   "autoclose": false,
   "autocomplete": true,
   "bibliofile": "biblio.bib",
   "cite_by": "apalike",
   "current_citInitial": 1,
   "eqLabelWithNumbers": true,
   "eqNumInitial": 1,
   "hotkeys": {
    "equation": "Ctrl-E",
    "itemize": "Ctrl-I"
   },
   "labels_anchors": false,
   "latex_user_defs": false,
   "report_style_numbering": false,
   "user_envs_cfg": false
  },
  "toc": {
   "base_numbering": 1,
   "nav_menu": {},
   "number_sections": true,
   "sideBar": true,
   "skip_h1_title": false,
   "title_cell": "Table of Contents",
   "title_sidebar": "Contents",
   "toc_cell": false,
   "toc_position": {
    "height": "calc(100% - 180px)",
    "left": "10px",
    "top": "150px",
    "width": "220.75px"
   },
   "toc_section_display": true,
   "toc_window_display": false
  }
 },
 "nbformat": 4,
 "nbformat_minor": 2
}
