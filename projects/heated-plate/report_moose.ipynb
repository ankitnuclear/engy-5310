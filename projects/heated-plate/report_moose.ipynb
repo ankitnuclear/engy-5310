{
 "cells": [
  {
   "cell_type": "markdown",
   "metadata": {},
   "source": [
    "**Engy-5310** Computational Continuum Transport Phenomena, UMass Lowell, Chem. Eng. Nuclear Program Fall 2021; Prof. V. F. de Almeida\n",
    "\n",
    "# Title\n",
    "$  \n",
    "  \\newcommand{\\Amtrx}{\\boldsymbol{\\mathsf{A}}}\n",
    "  \\newcommand{\\Bmtrx}{\\boldsymbol{\\mathsf{B}}}\n",
    "  \\newcommand{\\Mmtrx}{\\boldsymbol{\\mathsf{M}}}\n",
    "  \\newcommand{\\Imtrx}{\\boldsymbol{\\mathsf{I}}}\n",
    "  \\newcommand{\\Pmtrx}{\\boldsymbol{\\mathsf{P}}}\n",
    "  \\newcommand{\\Lmtrx}{\\boldsymbol{\\mathsf{L}}}\n",
    "  \\newcommand{\\Umtrx}{\\boldsymbol{\\mathsf{U}}}\n",
    "  \\newcommand{\\Smtrx}{\\boldsymbol{\\mathsf{S}}}\n",
    "  \\newcommand{\\xvec}{\\boldsymbol{\\mathsf{x}}}\n",
    "  \\newcommand{\\avec}{\\boldsymbol{\\mathsf{a}}}\n",
    "  \\newcommand{\\bvec}{\\boldsymbol{\\mathsf{b}}}\n",
    "  \\newcommand{\\cvec}{\\boldsymbol{\\mathsf{c}}}\n",
    "  \\newcommand{\\rvec}{\\boldsymbol{\\mathsf{r}}}\n",
    "  \\newcommand{\\fvec}{\\boldsymbol{\\mathsf{f}}}\n",
    "  \\newcommand{\\mvec}{\\boldsymbol{\\mathsf{m}}}\n",
    "  \\newcommand{\\gvec}{\\boldsymbol{\\mathsf{g}}}\n",
    "  \\newcommand{\\flux}{\\boldsymbol{q}}\n",
    "  \\newcommand{\\fluxc}{\\boldsymbol{q}_\\text{c}}\n",
    "  \\newcommand{\\fluxf}{\\boldsymbol{q}_\\text{f}}\n",
    "  \\newcommand{\\velocity}{\\boldsymbol{v}}\n",
    "  \\newcommand{\\normal}{\\boldsymbol{n}}\n",
    "  \\newcommand{\\xpoint}{\\boldsymbol{x}}\n",
    "  \\newcommand{\\Tc}{T_\\text{c}}\n",
    "  \\newcommand{\\wc}{w_\\text{c}}\n",
    "  \\newcommand{\\Tf}{T_\\text{f}}\n",
    "  \\newcommand{\\wf}{w_\\text{f}}\n",
    "  \\newcommand{\\wI}{w_\\text{I}}\n",
    "  \\newcommand{\\Ri}{R_\\text{i}}\n",
    "  \\newcommand{\\Ro}{R_\\text{o}}\n",
    "  \\newcommand{\\Omegac}{\\Omega_\\text{c}}\n",
    "  \\newcommand{\\Omegaf}{\\Omega_\\text{f}}\n",
    "  \\newcommand{\\zerovec}{\\boldsymbol{\\mathsf{0}}}\n",
    "  \\newcommand{\\norm}[1]{\\bigl\\lVert{#1}\\bigr\\rVert}\n",
    "  \\newcommand{\\transpose}[1]{{#1}^\\top}\n",
    "  \\DeclareMathOperator{\\rank}{rank}\n",
    "  \\DeclareMathOperator{\\div}{div}\n",
    "  \\DeclareMathOperator{\\gradx}{grad_\\xpoint}\n",
    "  \\DeclareMathOperator{\\divx}{div_\\xpoint}\n",
    "  \\DeclareMathOperator{\\grad}{grad}\n",
    "  \\newcommand{\\Reals}{\\mathbb{R}}\n",
    "  \\newcommand{\\thetavec}{\\boldsymbol{\\theta}}\n",
    "$"
   ]
  },
  {
   "cell_type": "markdown",
   "metadata": {},
   "source": [
    "**Student(s):**  `your name(s)` <br>\n",
    "**Course:** Engy-5310 Computational Continuum Transport Phenomena  <br>\n",
    "**Mentor and Collaborator:** `Prof. name`\n",
    "\n",
    "UMass Lowell, Dept. of Chemical Engineering, Nuclear Energy Program \n",
    "<br>\n",
    "**22Nov2021**"
   ]
  },
  {
   "cell_type": "markdown",
   "metadata": {},
   "source": [
    "---\n",
    "## Table of Contents<a id=\"toc\"></a>\n",
    "* [Introduction](#intro)\n",
    "* [Problem Statement](#problem)\n",
    "* [Objectives](#obj)\n",
    "* [Approach](#app)\n",
    " + [Weak Form of Problem Statement](#weakform)\n",
    " + [MOOSE Kernels](#kernels)\n",
    " + [Setup](#setup)\n",
    "   - [Test 1](#1dsolofueldirichlet)\n",
    "   - [Test 2](#1dsolofueldirichletrobin)\n",
    "* [2-D Results and Analysis](#ranalysis)\n",
    "* [Conclusions](#conclusions)\n",
    "* [References](#refs)\n",
    "---"
   ]
  },
  {
   "cell_type": "markdown",
   "metadata": {},
   "source": [
    "## [Introduction](#toc)<a id=\"intro\"></a>"
   ]
  },
  {
   "cell_type": "markdown",
   "metadata": {},
   "source": [
    "`text goes here`"
   ]
  },
  {
   "cell_type": "markdown",
   "metadata": {},
   "source": [
    "## [Problem Statement](#toc)<a id=\"problem\"></a>"
   ]
  },
  {
   "cell_type": "markdown",
   "metadata": {},
   "source": [
    "`mathematical statement of problem`\n"
   ]
  },
  {
   "cell_type": "markdown",
   "metadata": {},
   "source": [
    "### Domain\n",
    "`describe domain`"
   ]
  },
  {
   "cell_type": "markdown",
   "metadata": {},
   "source": [
    "## [Objectives](#toc)<a id=\"obj\"></a>"
   ]
  },
  {
   "cell_type": "markdown",
   "metadata": {},
   "source": [
    "`state objectives`"
   ]
  },
  {
   "cell_type": "markdown",
   "metadata": {},
   "source": [
    "## [Approach](#toc)<a id=\"app\"></a>"
   ]
  },
  {
   "cell_type": "markdown",
   "metadata": {},
   "source": [
    "A Galerkin weak formulation follows below and the implementation of the integrands as MOOSE kernels are described next."
   ]
  },
  {
   "cell_type": "markdown",
   "metadata": {},
   "source": [
    "### [Weak Form of Problem Statement](#toc)<a id=\"weakform\"></a> \n"
   ]
  },
  {
   "cell_type": "markdown",
   "metadata": {},
   "source": [
    "### [MOOSE Kernels](#toc)<a id=\"kernels\"></a>\n"
   ]
  },
  {
   "cell_type": "markdown",
   "metadata": {},
   "source": [
    "### [Setup](#toc)<a id=\"setup\"></a>"
   ]
  },
  {
   "cell_type": "code",
   "execution_count": 30,
   "metadata": {
    "ExecuteTime": {
     "end_time": "2021-12-14T17:59:38.408694Z",
     "start_time": "2021-12-14T17:59:38.404925Z"
    }
   },
   "outputs": [],
   "source": [
    "'''SI units'''\n",
    "from scipy import constants as unit\n",
    "unit.kelvin = 1.0\n",
    "unit.second = 1.0\n",
    "unit.joule = 1.0\n",
    "unit.meter = 1.0\n",
    "unit.watt = unit.joule/unit.second\n",
    "unit.kg = unit.kilo*unit.gram\n",
    "import numpy as np"
   ]
  },
  {
   "cell_type": "code",
   "execution_count": 4,
   "metadata": {
    "ExecuteTime": {
     "end_time": "2021-12-14T06:39:47.151235Z",
     "start_time": "2021-12-14T06:39:47.140880Z"
    },
    "code_folding": [
     2
    ]
   },
   "outputs": [],
   "source": [
    "'''Plot function for FEM Solution'''\n",
    "\n",
    "def plot_solution(df1=None, df2=None, \n",
    "                  x_scale=1,\n",
    "                  y1_scale=1,\n",
    "                  y2_scale=1,\n",
    "                  xlabel=r'$x$ []',\n",
    "                  y1label=r'$u_h(x)$ []',\n",
    "                  y2label=r'$q_h(x)$ []',\n",
    "                  title='No Title', \n",
    "                  u1_legend='no u1 legend',\n",
    "                  u2_legend='no u2 legend',\n",
    "                  u1_flux_legend='no u1 flux legend',\n",
    "                  u2_flux_legend='no u2 flux legend',\n",
    "                  flux_decimal_digits=5):\n",
    "    '''Plot solution for plate and coolant\n",
    "    '''\n",
    "    import matplotlib.pyplot as plt\n",
    "    #%matplotlib inline\n",
    "    plt.style.use('dark_background')\n",
    "    import numpy as np\n",
    "    import scipy.constants as unit\n",
    "\n",
    "    (fig, ax1) = plt.subplots(1, figsize=(15, 6))\n",
    "\n",
    "    if df1 is not None:\n",
    "        ax1.plot(df1['x']*x_scale, unit.convert_temperature(df1['tempPlate'],'K','C'),'r*-',label=u1_legend)\n",
    "    if df2 is not None:\n",
    "        ax1.plot(df2['x']*x_scale, unit.convert_temperature(df2['tempCoolant'],'K','C'),'*--', color='magenta', label=u2_legend)\n",
    "\n",
    "    ax1.set_xlabel(xlabel, fontsize=18)\n",
    "    ax1.set_ylabel(y1label, fontsize=18, color='white')\n",
    "    ax1.tick_params(axis='y', labelcolor='white', labelsize=14)\n",
    "    ax1.tick_params(axis='x', labelsize=14)\n",
    "    ax1.legend(loc='center left', fontsize=12)\n",
    "    #ax1.set_ylim(0,1)\n",
    "    ax1.grid(True)\n",
    "    \n",
    "    ax2 = None\n",
    "\n",
    "    if df1 is not None and 'heatFluxPlate_x' in df1.columns:\n",
    "\n",
    "        ax2 = ax1.twinx()\n",
    "        ax2.plot(df1['x']*x_scale, np.round(df1['heatFluxPlate_x'].round(2)*y2_scale, flux_decimal_digits),'*-', color='yellow', label=u1_flux_legend)\n",
    "        \n",
    "    if df2 is not None and 'heatFluxCoolant_x' in df2.columns:\n",
    "        \n",
    "        if ax2 is None:\n",
    "            ax2 = ax1.twinx()\n",
    "            \n",
    "        ax2.plot(df2['x']*x_scale, np.round(df2['heatFluxCoolant_x'].round(2)*y2_scale, flux_decimal_digits),'*--', color='orange', label=u2_flux_legend)\n",
    "\n",
    "    if ax2 is not None:\n",
    "        ax2.set_ylabel(y2label, fontsize=16, color='white')\n",
    "        ax2.tick_params(axis='y', labelcolor='white', labelsize=14)\n",
    "        ax2.legend(loc='center right', fontsize=12)\n",
    "        #ax2.set_ylim(0,2)\n",
    "        #ax2.grid(True)\n",
    "\n",
    "    plt.title(title, fontsize=20)\n",
    "    fig.tight_layout()  # otherwise the right y-label is slightly clipped\n",
    "    plt.show()\n",
    "    print('')"
   ]
  },
  {
   "cell_type": "code",
   "execution_count": 5,
   "metadata": {
    "ExecuteTime": {
     "end_time": "2021-12-14T06:39:47.643785Z",
     "start_time": "2021-12-14T06:39:47.641307Z"
    }
   },
   "outputs": [],
   "source": [
    "'''Domain'''\n",
    "\n",
    "x_a = 0*unit.inch\n",
    "x_b = 0.05*unit.inch"
   ]
  },
  {
   "cell_type": "code",
   "execution_count": 7,
   "metadata": {
    "ExecuteTime": {
     "end_time": "2021-12-14T06:40:10.013736Z",
     "start_time": "2021-12-14T06:40:10.010808Z"
    }
   },
   "outputs": [],
   "source": [
    "'''Parameters'''\n",
    "\n",
    "k_plate = 6.096*unit.watt/unit.inch/unit.kelvin\n",
    "source_s = 56.818*unit.watt/unit.inch**3"
   ]
  },
  {
   "cell_type": "code",
   "execution_count": 8,
   "metadata": {
    "ExecuteTime": {
     "end_time": "2021-12-14T06:40:44.881502Z",
     "start_time": "2021-12-14T06:40:44.878598Z"
    }
   },
   "outputs": [],
   "source": [
    "'''Data (boundary conditions for testing purposes)'''\n",
    "\n",
    "qn_a = 0\n",
    "u_b = unit.convert_temperature(112,'C','K')"
   ]
  },
  {
   "cell_type": "code",
   "execution_count": 9,
   "metadata": {
    "ExecuteTime": {
     "end_time": "2021-12-14T06:40:47.556374Z",
     "start_time": "2021-12-14T06:40:47.553689Z"
    }
   },
   "outputs": [],
   "source": [
    "'''FEM Solution'''\n",
    "\n",
    "n_felem = 1\n",
    "\n",
    "order = 'second'\n",
    "flux_order = 'first'\n",
    "\n",
    "n_plot_pts = n_felem + 1\n",
    "n_plot_pts = 20"
   ]
  },
  {
   "cell_type": "code",
   "execution_count": 10,
   "metadata": {
    "ExecuteTime": {
     "end_time": "2021-12-14T06:40:49.860010Z",
     "start_time": "2021-12-14T06:40:49.833807Z"
    },
    "code_folding": [
     2
    ]
   },
   "outputs": [],
   "source": [
    "'''Write input file function'''\n",
    "\n",
    "def write_input_file():\n",
    "    import pyhit\n",
    "    import moosetree\n",
    "    root = pyhit.load('')\n",
    "\n",
    "    prblm = root.insert(-1,'Problem')\n",
    "    prblm['type'] = 'FEProblem'\n",
    "    prblm['coord_type'] = 'XYZ'\n",
    "\n",
    "    mesh = root.insert(-1,'Mesh')\n",
    "    \n",
    "    omega = mesh.insert(-1,'omega')\n",
    "    omega['type'] = 'GeneratedMeshGenerator'\n",
    "    omega['dim'] = 1\n",
    "    omega['xmin'] = x_a\n",
    "    omega['xmax'] = x_b\n",
    "    omega['nx'] = n_felem\n",
    "    if order == 'second':\n",
    "        omega['elem_type'] = 'edge3'\n",
    "\n",
    "    vars = root.insert(-1,'Variables')\n",
    "    \n",
    "    conc = vars.insert(-1,'tempPlate')\n",
    "    conc['order'] = order\n",
    "    conc['family'] = 'lagrange'\n",
    "    conc['initial_condition'] = u_b/2\n",
    "    \n",
    "    aux_vars = root.insert(-1,'AuxVariables')\n",
    "    \n",
    "    heat_flux_fuel = aux_vars.insert(-1,'heatFluxPlate')\n",
    "    heat_flux_fuel['order'] = flux_order\n",
    "    heat_flux_fuel['family'] = 'monomial_vec'\n",
    "    \n",
    "    heat_flux_fuel_r = aux_vars.insert(-1,'heatFluxPlate_x')\n",
    "    heat_flux_fuel_r['order'] = flux_order\n",
    "    heat_flux_fuel_r['family'] = 'monomial'\n",
    "    \n",
    "    kernels = root.insert(-1,'Kernels')\n",
    "    \n",
    "    diff = kernels.insert(-1,'diffusion-term')\n",
    "    diff['type'] = 'HeatConduction'\n",
    "    diff['variable'] = 'tempPlate'\n",
    "    diff['thermCond'] = therm_cond\n",
    "    \n",
    "    source = kernels.insert(-1,'source-term')\n",
    "    source['type'] = 'HeatSource'\n",
    "    source['variable'] = 'tempPlate'\n",
    "    source['sourceS'] = source_s\n",
    "    \n",
    "    aux_kernels = root.insert(-1,'AuxKernels')\n",
    "        \n",
    "    heat_flux = aux_kernels.insert(-1,'heat-flux-plate')\n",
    "    heat_flux['type'] = 'HeatFlux'\n",
    "    heat_flux['field'] = 'tempPlate'\n",
    "    heat_flux['thCondCoeff'] = therm_cond\n",
    "    heat_flux['variable'] = 'heatFluxPlate'\n",
    "    heat_flux['execute_on'] = 'timestep_end'\n",
    "    \n",
    "    heat_flux_r = aux_kernels.insert(-1,'heat-flux-plate-x')\n",
    "    heat_flux_r['type'] = 'VectorVariableComponentAux'\n",
    "    heat_flux_r['vector_variable'] = 'heatFluxPlate'\n",
    "    heat_flux_r['component'] = 'x'\n",
    "    heat_flux_r['variable'] = 'heatFluxPlate_x'\n",
    "    heat_flux_r['execute_on'] = 'timestep_end'\n",
    "    \n",
    "    bcs = root.insert(-1,'BCs')\n",
    "    \n",
    "    xa = bcs.insert(-1,'entry-u')\n",
    "    xa['type'] = 'NeumannBC'\n",
    "    xa['variable'] = 'tempPlate'\n",
    "    xa['boundary'] = 'left'\n",
    "    xa['value'] = qn_a\n",
    "    \n",
    "    xb = bcs.insert(-1,'exit-u')\n",
    "    xb['type'] = 'DirichletBC'\n",
    "    xb['variable'] = 'tempPlate'\n",
    "    xb['boundary'] = 'right'\n",
    "    xb['value'] = u_b\n",
    "\n",
    "    exe = root.insert(-1,'Executioner')\n",
    "    exe['type'] = 'Steady'\n",
    "    exe['solve_type']  = 'PJFNK'\n",
    "    exe['petsc_options_iname']  = '-pc_type -pc_hypre_type'\n",
    "    exe['petsc_options_value']  = 'hypre boomeramg'\n",
    "    exe['l_max_its']  = 20\n",
    "    exe['l_tol']  = 1e-5\n",
    "    exe['nl_max_its']  = 15\n",
    "    exe['nl_rel_tol']  = 1e-8\n",
    "    exe['nl_abs_tol']  = 1e-8\n",
    "\n",
    "    vp = root.insert(-1,'VectorPostprocessors')\n",
    "    omega = vp.insert(-1,'omega')\n",
    "    omega['type'] = 'LineValueSampler'\n",
    "    omega['execute_on'] = 'timestep_end final'\n",
    "    omega['variable'] = 'tempPlate heatFluxPlate_x'  \n",
    "    omega['start_point'] = str(x_a)+' 0 0'\n",
    "    omega['end_point'] = str(x_b)+' 0 0'\n",
    "    omega['num_points'] = n_plot_pts\n",
    "    omega['sort_by'] = 'id'\n",
    "\n",
    "    out = root.insert(-1,'Outputs')\n",
    "    out['console'] = 'true'\n",
    "    csv = out.insert(-1,'csv')\n",
    "    csv['type'] = 'CSV'\n",
    "    csv['file_base'] = 'output'\n",
    "    csv['execute_on'] = 'final'\n",
    "\n",
    "    pyhit.write('input.hit', root)"
   ]
  },
  {
   "cell_type": "markdown",
   "metadata": {},
   "source": [
    "#### [Test 1](#toc)<a id=\"1dsolofueldirichlet\"></a>\n"
   ]
  },
  {
   "cell_type": "code",
   "execution_count": 11,
   "metadata": {
    "ExecuteTime": {
     "end_time": "2021-12-14T06:40:54.463188Z",
     "start_time": "2021-12-14T06:40:53.998770Z"
    },
    "scrolled": true
   },
   "outputs": [
    {
     "name": "stdout",
     "output_type": "stream",
     "text": [
      "[Problem]\r\n",
      "  type = FEProblem\r\n",
      "  coord_type = XYZ\r\n",
      "[]\r\n",
      "[Mesh]\r\n",
      "  [omega]\r\n",
      "    type = GeneratedMeshGenerator\r\n",
      "    dim = 1\r\n",
      "    xmin = 0.0\r\n",
      "    xmax = 0.00127\r\n",
      "    nx = 1\r\n",
      "    elem_type = edge3\r\n",
      "  []\r\n",
      "[]\r\n",
      "[Variables]\r\n",
      "  [tempPlate]\r\n",
      "    order = second\r\n",
      "    family = lagrange\r\n",
      "    initial_condition = 192.575\r\n",
      "  []\r\n",
      "[]\r\n",
      "[AuxVariables]\r\n",
      "  [heatFluxPlate]\r\n",
      "    order = first\r\n",
      "    family = monomial_vec\r\n",
      "  []\r\n",
      "  [heatFluxPlate_x]\r\n",
      "    order = first\r\n",
      "    family = monomial\r\n",
      "  []\r\n",
      "[]\r\n",
      "[Kernels]\r\n",
      "  [diffusion-term]\r\n",
      "    type = HeatConduction\r\n",
      "    variable = tempPlate\r\n",
      "    thermCond = 240.0\r\n",
      "  []\r\n",
      "  [source-term]\r\n",
      "    type = HeatSource\r\n",
      "    variable = tempPlate\r\n",
      "    sourceS = 3467247.091974499\r\n",
      "  []\r\n",
      "[]\r\n",
      "[AuxKernels]\r\n",
      "  [heat-flux-plate]\r\n",
      "    type = HeatFlux\r\n",
      "    field = tempPlate\r\n",
      "    thCondCoeff = 240.0\r\n",
      "    variable = heatFluxPlate\r\n",
      "    execute_on = timestep_end\r\n",
      "  []\r\n",
      "  [heat-flux-plate-x]\r\n",
      "    type = VectorVariableComponentAux\r\n",
      "    vector_variable = heatFluxPlate\r\n",
      "    component = x\r\n",
      "    variable = heatFluxPlate_x\r\n",
      "    execute_on = timestep_end\r\n",
      "  []\r\n",
      "[]\r\n",
      "[BCs]\r\n",
      "  [entry-u]\r\n",
      "    type = NeumannBC\r\n",
      "    variable = tempPlate\r\n",
      "    boundary = left\r\n",
      "    value = 0\r\n",
      "  []\r\n",
      "  [exit-u]\r\n",
      "    type = DirichletBC\r\n",
      "    variable = tempPlate\r\n",
      "    boundary = right\r\n",
      "    value = 385.15\r\n",
      "  []\r\n",
      "[]\r\n",
      "[Executioner]\r\n",
      "  type = Steady\r\n",
      "  solve_type = PJFNK\r\n",
      "  petsc_options_iname = '-pc_type -pc_hypre_type'\r\n",
      "  petsc_options_value = 'hypre boomeramg'\r\n",
      "  l_max_its = 20\r\n",
      "  l_tol = 1e-05\r\n",
      "  nl_max_its = 15\r\n",
      "  nl_rel_tol = 1e-08\r\n",
      "  nl_abs_tol = 1e-08\r\n",
      "[]\r\n",
      "[VectorPostprocessors]\r\n",
      "  [omega]\r\n",
      "    type = LineValueSampler\r\n",
      "    execute_on = 'timestep_end final'\r\n",
      "    variable = 'tempPlate heatFluxPlate_x'\r\n",
      "    start_point = '0.0 0 0'\r\n",
      "    end_point = '0.00127 0 0'\r\n",
      "    num_points = 20\r\n",
      "    sort_by = id\r\n",
      "  []\r\n",
      "[]\r\n",
      "[Outputs]\r\n",
      "  console = true\r\n",
      "  [csv]\r\n",
      "    type = CSV\r\n",
      "    file_base = output\r\n",
      "    execute_on = final\r\n",
      "  []\r\n",
      "[]\r\n"
     ]
    }
   ],
   "source": [
    "'''Input file'''\n",
    "write_input_file()\n",
    "!cat input.hit"
   ]
  },
  {
   "cell_type": "code",
   "execution_count": 12,
   "metadata": {
    "ExecuteTime": {
     "end_time": "2021-12-14T06:41:03.966292Z",
     "start_time": "2021-12-14T06:41:03.645812Z"
    },
    "scrolled": true
   },
   "outputs": [
    {
     "name": "stdout",
     "output_type": "stream",
     "text": [
      "\n",
      "Framework Information:\n",
      "MOOSE Version:           git commit 38d37b938c on 2021-10-22\n",
      "LibMesh Version:         aebb5a5c0e1f6d8cf523a720e19f70a6d17c0236\n",
      "PETSc Version:           3.16.0\n",
      "SLEPc Version:           3.16.0\n",
      "Current Time:            Tue Dec 14 01:41:03 2021\n",
      "Executable Timestamp:    Sat Dec 11 12:52:02 2021\n",
      "\n",
      "Parallelism:\n",
      "  Num Processors:          1\n",
      "  Num Threads:             1\n",
      "\n",
      "Mesh: \n",
      "  Parallel Type:           replicated\n",
      "  Mesh Dimension:          1\n",
      "  Spatial Dimension:       1\n",
      "  Nodes:                   3\n",
      "  Elems:                   1\n",
      "  Num Subdomains:          1\n",
      "\n",
      "Nonlinear System:\n",
      "  Num DOFs:                3\n",
      "  Num Local DOFs:          3\n",
      "  Variables:               \"tempPlate\" \n",
      "  Finite Element Types:    \"LAGRANGE\" \n",
      "  Approximation Orders:    \"SECOND\" \n",
      "\n",
      "Auxiliary System:\n",
      "  Num DOFs:                4\n",
      "  Num Local DOFs:          4\n",
      "  Variables:               \"heatFluxPlate\" \"heatFluxPlate_x\" \n",
      "  Finite Element Types:    \"MONOMIAL_VEC\" \"MONOMIAL\" \n",
      "  Approximation Orders:    \"FIRST\" \"FIRST\" \n",
      "\n",
      "Execution Information:\n",
      "  Executioner:             Steady\n",
      "  Solver Mode:             Preconditioned JFNK\n",
      "  PETSc Preconditioner:    hypre boomeramg \n",
      "\n",
      " 0 Nonlinear |R| = \u001b[32m9.780372e+07\u001b[39m\n",
      "      0 Linear |R| = \u001b[32m9.780372e+07\u001b[39m\n",
      "      1 Linear |R| = \u001b[32m4.718920e+00\u001b[39m\n",
      " 1 Nonlinear |R| = \u001b[32m2.133617e+00\u001b[39m\n",
      "      0 Linear |R| = \u001b[32m2.133617e+00\u001b[39m\n",
      "      1 Linear |R| = \u001b[32m3.105324e-07\u001b[39m\n",
      " 2 Nonlinear |R| = \u001b[32m7.398721e-07\u001b[39m\n",
      "\u001b[32m Solve Converged!\u001b[39m\n"
     ]
    }
   ],
   "source": [
    "'''Run Engy5310P1 MOOSE App'''\n",
    "\n",
    "!./heated_plate-opt -i input.hit"
   ]
  },
  {
   "cell_type": "code",
   "execution_count": 17,
   "metadata": {
    "ExecuteTime": {
     "end_time": "2021-12-14T06:44:24.248061Z",
     "start_time": "2021-12-14T06:44:23.978546Z"
    },
    "code_folding": []
   },
   "outputs": [
    {
     "data": {
      "image/png": "[encoded data removed]",
      "text/plain": [
       "<Figure size 1080x432 with 2 Axes>"
      ]
     },
     "metadata": {},
     "output_type": "display_data"
    },
    {
     "name": "stdout",
     "output_type": "stream",
     "text": [
      "\n"
     ]
    }
   ],
   "source": [
    "'''Show FEM Solution'''\n",
    "\n",
    "import pandas as pd\n",
    "df = pd.read_csv('output_omega_0002.csv')\n",
    "    \n",
    "plot_solution(df1=df, title='Plate Temperature Profile',\n",
    "              u1_legend=r'$T_p$ Lagrange Quadratic',\n",
    "              u1_flux_legend=r'$q_{p,x}$ Monomial Linear',\n",
    "              x_scale=1/unit.milli/unit.meter,\n",
    "              xlabel='x [mm]', y1label=r'$T_p$ [C]', \n",
    "              y2_scale=1/unit.kilo, y2label=r'$q_h$ [kW/m^2]',)"
   ]
  },
  {
   "cell_type": "markdown",
   "metadata": {},
   "source": [
    "#### [Test 2](#toc)<a id=\"1dsolofueldirichletrobin\"></a>"
   ]
  },
  {
   "cell_type": "code",
   "execution_count": 62,
   "metadata": {
    "ExecuteTime": {
     "end_time": "2021-12-14T18:22:51.039336Z",
     "start_time": "2021-12-14T18:22:51.032755Z"
    }
   },
   "outputs": [],
   "source": [
    "'''Parameters'''\n",
    "x_a = 0.0\n",
    "x_i_l = 0.05*unit.inch\n",
    "x_i_r = 0.2*unit.inch\n",
    "\n",
    "n_felem_plate = 5\n",
    "n_felem_coolant = 8\n",
    "\n",
    "order = 'second'\n",
    "flux_order = 'first'\n",
    "\n",
    "k_plate = 6.096*unit.watt/unit.inch/unit.kelvin\n",
    "k_coolant = 0.01524*unit.watt/unit.inch/unit.kelvin\n",
    "rho_coolant = 0.0164*unit.kg/unit.inch**3\n",
    "cp_coolant = 4168*unit.joule/unit.kg/unit.kelvin\n",
    "s_source = 56.818*unit.watt/unit.inch**3\n",
    "\n",
    "heat_transfer_coeff = 1e-3*unit.watt/unit.meter**2/unit.kelvin\n",
    "temp_ref = unit.convert_temperature(25,'C','K')\n",
    "\n",
    "velocity = np.zeros(3)\n",
    "\n",
    "fdp_full = True\n",
    "n_plot_pts_plate = 10\n",
    "n_plot_pts_coolant = 10"
   ]
  },
  {
   "cell_type": "code",
   "execution_count": 63,
   "metadata": {
    "ExecuteTime": {
     "end_time": "2021-12-14T18:22:52.596538Z",
     "start_time": "2021-12-14T18:22:52.592345Z"
    },
    "scrolled": true
   },
   "outputs": [
    {
     "data": {
      "text/plain": [
       "'Input file mod'"
      ]
     },
     "execution_count": 63,
     "metadata": {},
     "output_type": "execute_result"
    }
   ],
   "source": [
    "'''Input file mod'''"
   ]
  },
  {
   "cell_type": "code",
   "execution_count": 64,
   "metadata": {
    "ExecuteTime": {
     "end_time": "2021-12-14T18:22:52.906591Z",
     "start_time": "2021-12-14T18:22:52.874981Z"
    }
   },
   "outputs": [],
   "source": [
    "def write_input_file(pjfnk=False):\n",
    "    import pyhit\n",
    "    import moosetree\n",
    "    root = pyhit.load('')\n",
    "    \n",
    "    prblm = root.insert(-1,'Problem')\n",
    "    prblm['type'] = 'FEProblem'\n",
    "    prblm['coord_type'] = 'XYZ'\n",
    "\n",
    "    mesh = root.insert(-1,'Mesh')\n",
    "    \n",
    "    omega1 = mesh.insert(-1,'omega1')\n",
    "    omega1['type'] = 'GeneratedMeshGenerator'\n",
    "    omega1['dim'] = 1\n",
    "    omega1['xmin'] = x_a\n",
    "    omega1['xmax'] = x_i_l\n",
    "    omega1['nx'] = n_felem_plate\n",
    "    if order == 'second':\n",
    "        omega1['elem_type'] = 'edge3'\n",
    "    \n",
    "    omega2 = mesh.insert(-1,'omega2')\n",
    "    omega2['type'] = 'GeneratedMeshGenerator'\n",
    "    omega2['dim'] = 1\n",
    "    omega2['xmin'] = x_i_l\n",
    "    omega2['xmax'] = x_i_r\n",
    "    omega2['nx'] = n_felem_coolant\n",
    "    if order == 'second':\n",
    "        omega2['elem_type'] = 'edge3'\n",
    "\n",
    "    omega = mesh.insert(-1,'omega')\n",
    "    omega['type'] = 'StitchedMeshGenerator'\n",
    "    omega['inputs'] = \"'omega1 omega2'\"\n",
    "    omega['stitch_boundaries_pairs'] = \"'right left'\"\n",
    "    omega['clear_stitched_boundary_ids'] = 'true'\n",
    "    \n",
    "    mod1 = mesh.insert(-1,'mod1')\n",
    "    mod1['type'] = 'SubdomainBoundingBoxGenerator'\n",
    "    mod1['input'] = 'omega'\n",
    "    mod1['block_id'] = 1\n",
    "    mod1['block_name'] = 'omega_1'\n",
    "    mod1['bottom_left'] = str(x_a)+' 0 0'\n",
    "    mod1['top_right'] = str(x_i_l)+' 1 0'\n",
    "    \n",
    "    mod2 = mesh.insert(-1,'mod2')\n",
    "    mod2['type'] = 'SubdomainBoundingBoxGenerator'\n",
    "    mod2['input'] = 'mod1'\n",
    "    mod2['block_id'] = 2\n",
    "    mod2['block_name'] = 'omega_2'\n",
    "    mod2['bottom_left'] = str(x_i_l)+' 0 0'\n",
    "    mod2['top_right'] = str(x_i_r)+' 1 0'\n",
    "    \n",
    "    mod3 = mesh.insert(-1,'mod3')\n",
    "    mod3['type'] = 'SideSetsBetweenSubdomainsGenerator'\n",
    "    mod3['input'] = 'mod2'\n",
    "    mod3['primary_block'] = 'omega_1'\n",
    "    mod3['paired_block'] = 'omega_2' \n",
    "    mod3['new_boundary'] = 'interface_12'\n",
    "    \n",
    "    mod4 = mesh.insert(-1,'mod4')\n",
    "    mod4['type'] = 'SideSetsAroundSubdomainGenerator'\n",
    "    mod4['input'] = 'mod3'\n",
    "    mod4['block'] = 'omega_1'\n",
    "    mod4['normal'] = '-1 0 0'\n",
    "    mod4['new_boundary'] = 'omega_1_left'\n",
    "    \n",
    "    mod5 = mesh.insert(-1,'mod5')\n",
    "    mod5['type'] = 'SideSetsAroundSubdomainGenerator'\n",
    "    mod5['input'] = 'mod4'\n",
    "    mod5['block'] = 'omega_2'\n",
    "    mod5['normal'] = '1 0 0'\n",
    "    mod5['new_boundary'] = 'omega_2_right'\n",
    "\n",
    "    vars = root.insert(-1,'Variables')\n",
    "    \n",
    "    temp_cool = vars.insert(-1,'tempPlate')\n",
    "    temp_cool['block'] = 'omega_1'\n",
    "    temp_cool['order'] = order\n",
    "    temp_cool['family'] = 'lagrange'\n",
    "    temp_cool['initial_condition'] = 1\n",
    "    \n",
    "    temp_fuel = vars.insert(-1,'tempCoolant')\n",
    "    temp_fuel['block'] = 'omega_2'\n",
    "    temp_fuel['order'] = order\n",
    "    temp_fuel['family'] = 'lagrange'\n",
    "    temp_fuel['initial_condition'] = 1\n",
    "    \n",
    "    aux_vars = root.insert(-1,'AuxVariables')\n",
    "    \n",
    "    heat_flux_cool = aux_vars.insert(-1,'heatFluxPlate')\n",
    "    heat_flux_cool['block'] = 'omega_1'\n",
    "    heat_flux_cool['order'] = flux_order\n",
    "    heat_flux_cool['family'] = 'monomial_vec'\n",
    "    \n",
    "    heat_flux_cool_r = aux_vars.insert(-1,'heatFluxPlate_x')\n",
    "    heat_flux_cool_r['block'] = 'omega_1'\n",
    "    heat_flux_cool_r['order'] = flux_order\n",
    "    heat_flux_cool_r['family'] = 'monomial'\n",
    "    \n",
    "    heat_flux_fuel = aux_vars.insert(-1,'heatFluxCoolant')\n",
    "    heat_flux_fuel['block'] = 'omega_2'\n",
    "    heat_flux_fuel['order'] = flux_order\n",
    "    heat_flux_fuel['family'] = 'monomial_vec'\n",
    "    \n",
    "    heat_flux_fuel_r = aux_vars.insert(-1,'heatFluxCoolant_x')\n",
    "    heat_flux_fuel_r['block'] = 'omega_2'\n",
    "    heat_flux_fuel_r['order'] = flux_order\n",
    "    heat_flux_fuel_r['family'] = 'monomial'\n",
    "\n",
    "    kernels = root.insert(-1,'Kernels')\n",
    "    \n",
    "    conduction = kernels.insert(-1,'heat-conduction-plate')\n",
    "    conduction['type'] = 'HeatConduction'\n",
    "    conduction['block'] = 'omega_1'\n",
    "    conduction['variable'] = 'tempPlate'\n",
    "    conduction['thermCond'] = k_plate\n",
    "    \n",
    "    source = kernels.insert(-1,'heat-source-plate')\n",
    "    source['type'] = 'HeatSource'\n",
    "    source['block'] = 'omega_1'\n",
    "    source['variable'] = 'tempPlate'\n",
    "    source['sourceS'] = s_source\n",
    "    \n",
    "    conduction = kernels.insert(-1,'heat-conduction-coolant')\n",
    "    conduction['type'] = 'HeatConduction'\n",
    "    conduction['block'] = 'omega_2'\n",
    "    conduction['variable'] = 'tempCoolant'\n",
    "    conduction['thermCond'] = k_coolant\n",
    "    \n",
    "    convection = kernels.insert(-1,'heat-convection-coolant')\n",
    "    convection['type'] = 'HeatConvection'\n",
    "    convection['block'] = 'omega_2'\n",
    "    convection['variable'] = 'tempCoolant'\n",
    "    convection['massDensity'] = rho_coolant\n",
    "    convection['heatCapacity'] = cp_coolant\n",
    "    convection['velocity'] = str(velocity[0])+' '+str(velocity[1])+' '+str(velocity[2])\n",
    "    \n",
    "    aux_kernels = root.insert(-1,'AuxKernels')\n",
    "    \n",
    "    heat_flux = aux_kernels.insert(-1,'heat-flux-plate')\n",
    "    heat_flux['type'] = 'HeatFlux'\n",
    "    heat_flux['block'] = 'omega_1'\n",
    "    heat_flux['field'] = 'tempPlate'\n",
    "    heat_flux['thCondCoeff'] = k_plate\n",
    "    heat_flux['variable'] = 'heatFluxPlate'\n",
    "    heat_flux['execute_on'] = 'timestep_end'\n",
    "    \n",
    "    heat_flux_r = aux_kernels.insert(-1,'heat-flux-plate-x')\n",
    "    heat_flux_r['type'] = 'VectorVariableComponentAux'\n",
    "    heat_flux_r['block'] = 'omega_1'\n",
    "    heat_flux_r['vector_variable'] = 'heatFluxPlate'\n",
    "    heat_flux_r['component'] = 'x'\n",
    "    heat_flux_r['variable'] = 'heatFluxPlate_x'\n",
    "    heat_flux_r['execute_on'] = 'timestep_end'\n",
    "    \n",
    "    heat_flux = aux_kernels.insert(-1,'heat-flux-coolant')\n",
    "    heat_flux['type'] = 'HeatFlux'\n",
    "    heat_flux['block'] = 'omega_2'\n",
    "    heat_flux['field'] = 'tempCoolant'\n",
    "    heat_flux['thCondCoeff'] = k_coolant\n",
    "    heat_flux['variable'] = 'heatFluxCoolant'\n",
    "    heat_flux['execute_on'] = 'timestep_end'\n",
    "    \n",
    "    heat_flux_r = aux_kernels.insert(-1,'heat-flux-coolant-x')\n",
    "    heat_flux_r['type'] = 'VectorVariableComponentAux'\n",
    "    heat_flux_r['block'] = 'omega_2'\n",
    "    heat_flux_r['vector_variable'] = 'heatFluxCoolant'\n",
    "    heat_flux_r['component'] = 'x'\n",
    "    heat_flux_r['variable'] = 'heatFluxCoolant_x'\n",
    "    heat_flux_r['execute_on'] = 'timestep_end'\n",
    "    \n",
    "    bcs = root.insert(-1,'BCs')\n",
    "    \n",
    "    cl = bcs.insert(-1,'center-line')\n",
    "    cl['type'] = 'NeumannBC'\n",
    "    cl['variable'] = 'tempPlate'\n",
    "    cl['boundary'] = 'omega_1_left'\n",
    "    cl['value'] = 0 \n",
    "    \n",
    "    ro = bcs.insert(-1,'x_i_r')\n",
    "    ro['type'] = 'NormalHeatFluxBC'\n",
    "    ro['variable'] = 'tempCoolant'\n",
    "    ro['boundary'] = 'omega_2_right'\n",
    "    ro['refTempFunc'] = 'refTempFunc'\n",
    "    ro['transferCoeff'] = heat_transfer_coeff\n",
    "    \n",
    "    functions = root.insert(-1,'Functions')\n",
    "    \n",
    "    ref_temp_func = functions.insert(-1, 'refTempFunc')\n",
    "    ref_temp_func['type'] = 'ParsedFunction'\n",
    "    ref_temp_func['value'] = 'temp_ref'\n",
    "    ref_temp_func['vars'] = 'temp_ref'\n",
    "    ref_temp_func['vals'] = str(temp_ref)\n",
    "    \n",
    "    if pjfnk:\n",
    "        exe = root.insert(-1,'Executioner')\n",
    "        exe['type'] = 'Steady'\n",
    "        exe['solve_type']  = 'PJFNK'\n",
    "        exe['petsc_options_iname']  = '-pc_type -pc_hypre_type'\n",
    "        exe['petsc_options_value']  = 'hypre boomeramg'\n",
    "        exe['l_max_its']  = 20\n",
    "        exe['l_tol']  = 1e-5\n",
    "        exe['nl_max_its']  = 15\n",
    "        exe['nl_rel_tol']  = 1e-8\n",
    "        exe['nl_abs_tol']  = 1e-8\n",
    "    elif fdp_full:\n",
    "        pre = root.insert(-1, 'Preconditioning')\n",
    "        pre['active'] = 'fdp-newt-full'\n",
    "        \n",
    "        fdp = pre.insert(-1, 'fdp-newt-full')\n",
    "        fdp['type'] = 'FDP'\n",
    "        fdp['full'] = 'true'\n",
    "        fdp['solve_type'] = 'NEWTON'\n",
    "        fdp['petsc_options_iname'] = \"\"'-pc_type -mat_fd_coloring_err -mat_fd_type'\"\"\n",
    "        fdp['petsc_options_value'] = \"\"'lu  1e-8          ds'\"\"\n",
    "        \n",
    "        exe = root.insert(-1,'Executioner')\n",
    "        exe['type'] = 'Steady'\n",
    "\n",
    "    vp = root.insert(-1,'VectorPostprocessors')\n",
    "    \n",
    "    omega_1 = vp.insert(-1,'omega_1')\n",
    "    omega_1['type'] = 'LineValueSampler'\n",
    "    omega_1['execute_on'] = 'timestep_end final'\n",
    "    omega_1['variable'] = 'tempPlate heatFluxPlate_x'  \n",
    "    omega_1['start_point'] = str(x_a)+' 0 0'\n",
    "    omega_1['end_point'] = str(x_i_l*0.995)+' 0 0'\n",
    "    omega_1['num_points'] = n_plot_pts_plate\n",
    "    omega_1['sort_by'] = 'id'\n",
    "    \n",
    "    omega_2 = vp.insert(-1,'omega_2')\n",
    "    omega_2['type'] = 'LineValueSampler'\n",
    "    omega_2['execute_on'] = 'timestep_end final'\n",
    "    omega_2['variable'] = 'tempCoolant heatFluxCoolant_x'  \n",
    "    omega_2['start_point'] = str(x_i_l*1.005)+' 0 0'\n",
    "    omega_2['end_point'] = str(x_i_r)+' 0 0'\n",
    "    omega_2['num_points'] = n_plot_pts_coolant\n",
    "    omega_2['sort_by'] = 'id'  \n",
    "\n",
    "    out = root.insert(-1,'Outputs')\n",
    "    out['console'] = 'true'\n",
    "    csv = out.insert(-1,'csv')\n",
    "    csv['type'] = 'CSV'\n",
    "    csv['file_base'] = 'output'\n",
    "    csv['execute_on'] = 'final'\n",
    "    \n",
    "    debug = root.insert(-1,'Debug')\n",
    "    debug['show_var_residual_norms'] = 'true'\n",
    "\n",
    "    pyhit.write('input.hit', root)"
   ]
  },
  {
   "cell_type": "code",
   "execution_count": 65,
   "metadata": {
    "ExecuteTime": {
     "end_time": "2021-12-14T18:22:54.136419Z",
     "start_time": "2021-12-14T18:22:54.022798Z"
    },
    "scrolled": true
   },
   "outputs": [
    {
     "name": "stdout",
     "output_type": "stream",
     "text": [
      "[Problem]\r\n",
      "  type = FEProblem\r\n",
      "  coord_type = XYZ\r\n",
      "[]\r\n",
      "[Mesh]\r\n",
      "  [omega1]\r\n",
      "    type = GeneratedMeshGenerator\r\n",
      "    dim = 1\r\n",
      "    xmin = 0.0\r\n",
      "    xmax = 0.00127\r\n",
      "    nx = 5\r\n",
      "    elem_type = edge3\r\n",
      "  []\r\n",
      "  [omega2]\r\n",
      "    type = GeneratedMeshGenerator\r\n",
      "    dim = 1\r\n",
      "    xmin = 0.00127\r\n",
      "    xmax = 0.00508\r\n",
      "    nx = 8\r\n",
      "    elem_type = edge3\r\n",
      "  []\r\n",
      "  [omega]\r\n",
      "    type = StitchedMeshGenerator\r\n",
      "    inputs = 'omega1 omega2'\r\n",
      "    stitch_boundaries_pairs = 'right left'\r\n",
      "    clear_stitched_boundary_ids = true\r\n",
      "  []\r\n",
      "  [mod1]\r\n",
      "    type = SubdomainBoundingBoxGenerator\r\n",
      "    input = omega\r\n",
      "    block_id = 1\r\n",
      "    block_name = omega_1\r\n",
      "    bottom_left = '0.0 0 0'\r\n",
      "    top_right = '0.00127 1 0'\r\n",
      "  []\r\n",
      "  [mod2]\r\n",
      "    type = SubdomainBoundingBoxGenerator\r\n",
      "    input = mod1\r\n",
      "    block_id = 2\r\n",
      "    block_name = omega_2\r\n",
      "    bottom_left = '0.00127 0 0'\r\n",
      "    top_right = '0.00508 1 0'\r\n",
      "  []\r\n",
      "  [mod3]\r\n",
      "    type = SideSetsBetweenSubdomainsGenerator\r\n",
      "    input = mod2\r\n",
      "    primary_block = omega_1\r\n",
      "    paired_block = omega_2\r\n",
      "    new_boundary = interface_12\r\n",
      "  []\r\n",
      "  [mod4]\r\n",
      "    type = SideSetsAroundSubdomainGenerator\r\n",
      "    input = mod3\r\n",
      "    block = omega_1\r\n",
      "    normal = '-1 0 0'\r\n",
      "    new_boundary = omega_1_left\r\n",
      "  []\r\n",
      "  [mod5]\r\n",
      "    type = SideSetsAroundSubdomainGenerator\r\n",
      "    input = mod4\r\n",
      "    block = omega_2\r\n",
      "    normal = '1 0 0'\r\n",
      "    new_boundary = omega_2_right\r\n",
      "  []\r\n",
      "[]\r\n",
      "[Variables]\r\n",
      "  [tempPlate]\r\n",
      "    block = omega_1\r\n",
      "    order = second\r\n",
      "    family = lagrange\r\n",
      "    initial_condition = 1\r\n",
      "  []\r\n",
      "  [tempCoolant]\r\n",
      "    block = omega_2\r\n",
      "    order = second\r\n",
      "    family = lagrange\r\n",
      "    initial_condition = 1\r\n",
      "  []\r\n",
      "[]\r\n",
      "[AuxVariables]\r\n",
      "  [heatFluxPlate]\r\n",
      "    block = omega_1\r\n",
      "    order = first\r\n",
      "    family = monomial_vec\r\n",
      "  []\r\n",
      "  [heatFluxPlate_x]\r\n",
      "    block = omega_1\r\n",
      "    order = first\r\n",
      "    family = monomial\r\n",
      "  []\r\n",
      "  [heatFluxCoolant]\r\n",
      "    block = omega_2\r\n",
      "    order = first\r\n",
      "    family = monomial_vec\r\n",
      "  []\r\n",
      "  [heatFluxCoolant_x]\r\n",
      "    block = omega_2\r\n",
      "    order = first\r\n",
      "    family = monomial\r\n",
      "  []\r\n",
      "[]\r\n",
      "[Kernels]\r\n",
      "  [heat-conduction-plate]\r\n",
      "    type = HeatConduction\r\n",
      "    block = omega_1\r\n",
      "    variable = tempPlate\r\n",
      "    thermCond = 240.0\r\n",
      "  []\r\n",
      "  [heat-source-plate]\r\n",
      "    type = HeatSource\r\n",
      "    block = omega_1\r\n",
      "    variable = tempPlate\r\n",
      "    sourceS = 3467247.091974499\r\n",
      "  []\r\n",
      "  [heat-conduction-coolant]\r\n",
      "    type = HeatConduction\r\n",
      "    block = omega_2\r\n",
      "    variable = tempCoolant\r\n",
      "    thermCond = 0.6\r\n",
      "  []\r\n",
      "  [heat-convection-coolant]\r\n",
      "    type = HeatConvection\r\n",
      "    block = omega_2\r\n",
      "    variable = tempCoolant\r\n",
      "    massDensity = 1000.7894031536096\r\n",
      "    heatCapacity = 4168.0\r\n",
      "    velocity = '0.0 0.0 0.0'\r\n",
      "  []\r\n",
      "[]\r\n",
      "[AuxKernels]\r\n",
      "  [heat-flux-plate]\r\n",
      "    type = HeatFlux\r\n",
      "    block = omega_1\r\n",
      "    field = tempPlate\r\n",
      "    thCondCoeff = 240.0\r\n",
      "    variable = heatFluxPlate\r\n",
      "    execute_on = timestep_end\r\n",
      "  []\r\n",
      "  [heat-flux-plate-x]\r\n",
      "    type = VectorVariableComponentAux\r\n",
      "    block = omega_1\r\n",
      "    vector_variable = heatFluxPlate\r\n",
      "    component = x\r\n",
      "    variable = heatFluxPlate_x\r\n",
      "    execute_on = timestep_end\r\n",
      "  []\r\n",
      "  [heat-flux-coolant]\r\n",
      "    type = HeatFlux\r\n",
      "    block = omega_2\r\n",
      "    field = tempCoolant\r\n",
      "    thCondCoeff = 0.6\r\n",
      "    variable = heatFluxCoolant\r\n",
      "    execute_on = timestep_end\r\n",
      "  []\r\n",
      "  [heat-flux-coolant-x]\r\n",
      "    type = VectorVariableComponentAux\r\n",
      "    block = omega_2\r\n",
      "    vector_variable = heatFluxCoolant\r\n",
      "    component = x\r\n",
      "    variable = heatFluxCoolant_x\r\n",
      "    execute_on = timestep_end\r\n",
      "  []\r\n",
      "[]\r\n",
      "[BCs]\r\n",
      "  [center-line]\r\n",
      "    type = NeumannBC\r\n",
      "    variable = tempPlate\r\n",
      "    boundary = omega_1_left\r\n",
      "    value = 0\r\n",
      "  []\r\n",
      "  [x_i_r]\r\n",
      "    type = NormalHeatFluxBC\r\n",
      "    variable = tempCoolant\r\n",
      "    boundary = omega_2_right\r\n",
      "    refTempFunc = refTempFunc\r\n",
      "    transferCoeff = 0.001\r\n",
      "  []\r\n",
      "[]\r\n",
      "[Functions]\r\n",
      "  [refTempFunc]\r\n",
      "    type = ParsedFunction\r\n",
      "    value = temp_ref\r\n",
      "    vars = temp_ref\r\n",
      "    vals = 298.15\r\n",
      "  []\r\n",
      "[]\r\n",
      "[Preconditioning]\r\n",
      "  active = fdp-newt-full\r\n",
      "  [fdp-newt-full]\r\n",
      "    type = FDP\r\n",
      "    full = true\r\n",
      "    solve_type = NEWTON\r\n",
      "    petsc_options_iname = '-pc_type -mat_fd_coloring_err -mat_fd_type'\r\n",
      "    petsc_options_value = 'lu  1e-8          ds'\r\n",
      "  []\r\n",
      "[]\r\n",
      "[Executioner]\r\n",
      "  type = Steady\r\n",
      "[]\r\n",
      "[VectorPostprocessors]\r\n",
      "  [omega_1]\r\n",
      "    type = LineValueSampler\r\n",
      "    execute_on = 'timestep_end final'\r\n",
      "    variable = 'tempPlate heatFluxPlate_x'\r\n",
      "    start_point = '0.0 0 0'\r\n",
      "    end_point = '0.00126365 0 0'\r\n",
      "    num_points = 10\r\n",
      "    sort_by = id\r\n",
      "  []\r\n",
      "  [omega_2]\r\n",
      "    type = LineValueSampler\r\n",
      "    execute_on = 'timestep_end final'\r\n",
      "    variable = 'tempCoolant heatFluxCoolant_x'\r\n",
      "    start_point = '0.0012763499999999999 0 0'\r\n",
      "    end_point = '0.00508 0 0'\r\n",
      "    num_points = 10\r\n",
      "    sort_by = id\r\n",
      "  []\r\n",
      "[]\r\n",
      "[Outputs]\r\n",
      "  console = true\r\n",
      "  [csv]\r\n",
      "    type = CSV\r\n",
      "    file_base = output\r\n",
      "    execute_on = final\r\n",
      "  []\r\n",
      "[]\r\n",
      "[Debug]\r\n",
      "  show_var_residual_norms = true\r\n",
      "[]\r\n"
     ]
    }
   ],
   "source": [
    "'''Input file'''\n",
    "write_input_file()\n",
    "!cat input.hit"
   ]
  },
  {
   "cell_type": "code",
   "execution_count": 59,
   "metadata": {
    "ExecuteTime": {
     "end_time": "2021-12-14T18:17:28.366014Z",
     "start_time": "2021-12-14T18:17:28.361895Z"
    },
    "scrolled": true
   },
   "outputs": [
    {
     "data": {
      "text/plain": [
       "'Run MOOSE App'"
      ]
     },
     "execution_count": 59,
     "metadata": {},
     "output_type": "execute_result"
    }
   ],
   "source": [
    "'''Run MOOSE App'''"
   ]
  },
  {
   "cell_type": "code",
   "execution_count": 60,
   "metadata": {
    "ExecuteTime": {
     "end_time": "2021-12-14T18:17:29.191955Z",
     "start_time": "2021-12-14T18:17:29.188654Z"
    },
    "code_folding": []
   },
   "outputs": [
    {
     "data": {
      "text/plain": [
       "'Solution'"
      ]
     },
     "execution_count": 60,
     "metadata": {},
     "output_type": "execute_result"
    }
   ],
   "source": [
    "'''Solution'''"
   ]
  },
  {
   "cell_type": "markdown",
   "metadata": {},
   "source": [
    "## [2-D Results and Analysis](#toc)<a id=\"ranalysis\"></a>"
   ]
  },
  {
   "cell_type": "code",
   "execution_count": 14,
   "metadata": {
    "ExecuteTime": {
     "end_time": "2021-12-11T17:52:11.842575Z",
     "start_time": "2021-12-11T17:52:11.838418Z"
    }
   },
   "outputs": [
    {
     "data": {
      "text/plain": [
       "'Parameters'"
      ]
     },
     "execution_count": 14,
     "metadata": {},
     "output_type": "execute_result"
    }
   ],
   "source": [
    "'''Parameters'''"
   ]
  },
  {
   "cell_type": "code",
   "execution_count": 15,
   "metadata": {
    "ExecuteTime": {
     "end_time": "2021-12-11T17:52:11.848801Z",
     "start_time": "2021-12-11T17:52:11.844491Z"
    }
   },
   "outputs": [
    {
     "data": {
      "text/plain": [
       "'FEM Parameters'"
      ]
     },
     "execution_count": 15,
     "metadata": {},
     "output_type": "execute_result"
    }
   ],
   "source": [
    "'''FEM Parameters'''"
   ]
  },
  {
   "cell_type": "code",
   "execution_count": 16,
   "metadata": {
    "ExecuteTime": {
     "end_time": "2021-12-11T17:52:11.854988Z",
     "start_time": "2021-12-11T17:52:11.850738Z"
    }
   },
   "outputs": [
    {
     "data": {
      "text/plain": [
       "'Input file mod'"
      ]
     },
     "execution_count": 16,
     "metadata": {},
     "output_type": "execute_result"
    }
   ],
   "source": [
    "'''Input file mod'''"
   ]
  },
  {
   "cell_type": "code",
   "execution_count": 17,
   "metadata": {
    "ExecuteTime": {
     "end_time": "2021-12-11T17:52:11.858879Z",
     "start_time": "2021-12-11T17:52:11.856066Z"
    },
    "scrolled": true
   },
   "outputs": [
    {
     "data": {
      "text/plain": [
       "'Run MOOSE App'"
      ]
     },
     "execution_count": 17,
     "metadata": {},
     "output_type": "execute_result"
    }
   ],
   "source": [
    "'''Run MOOSE App'''"
   ]
  },
  {
   "cell_type": "code",
   "execution_count": 18,
   "metadata": {
    "ExecuteTime": {
     "end_time": "2021-12-11T17:52:11.863954Z",
     "start_time": "2021-12-11T17:52:11.860055Z"
    }
   },
   "outputs": [
    {
     "data": {
      "text/plain": [
       "'Show 2D solution'"
      ]
     },
     "execution_count": 18,
     "metadata": {},
     "output_type": "execute_result"
    }
   ],
   "source": [
    "'''Show 2D solution'''"
   ]
  },
  {
   "cell_type": "markdown",
   "metadata": {},
   "source": [
    "## [Conclusions](#toc)<a id=\"conclusions\"></a>"
   ]
  },
  {
   "cell_type": "markdown",
   "metadata": {},
   "source": [
    "## [References](#toc)<a id=\"refs\"></a>\n",
    "\n",
    "- [1] V. F. de Almeida, [*Engy-5310: Computational Continuum Transport Phenomena*](https://github.com/dpploy/engy-5310), University of Massachusetts Lowell, Dept. of Chemical Engineering (Nuclear Energy Program).\n",
    "- [2] Multiphysics Object-Oriented Simulation Environment [(MOOSE)](https://mooseframework.org)\n",
    "- [4] author, [reference]()"
   ]
  },
  {
   "cell_type": "code",
   "execution_count": null,
   "metadata": {},
   "outputs": [],
   "source": []
  }
 ],
 "metadata": {
  "kernelspec": {
   "display_name": "Python 3 (ipykernel)",
   "language": "python",
   "name": "python3"
  },
  "language_info": {
   "codemirror_mode": {
    "name": "ipython",
    "version": 3
   },
   "file_extension": ".py",
   "mimetype": "text/x-python",
   "name": "python",
   "nbconvert_exporter": "python",
   "pygments_lexer": "ipython3",
   "version": "3.9.9"
  },
  "latex_envs": {
   "LaTeX_envs_menu_present": true,
   "autoclose": false,
   "autocomplete": true,
   "bibliofile": "biblio.bib",
   "cite_by": "apalike",
   "current_citInitial": 1,
   "eqLabelWithNumbers": true,
   "eqNumInitial": 1,
   "hotkeys": {
    "equation": "Ctrl-E",
    "itemize": "Ctrl-I"
   },
   "labels_anchors": false,
   "latex_user_defs": false,
   "report_style_numbering": false,
   "user_envs_cfg": false
  }
 },
 "nbformat": 4,
 "nbformat_minor": 2
}
